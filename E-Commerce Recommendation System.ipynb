{
 "cells": [
  {
   "cell_type": "markdown",
   "id": "a06951c7",
   "metadata": {},
   "source": [
    "# Amazon_Product_Recommendation_System\n",
    "\n",
    "So this is a very interesting problem of Recommendation System, Recommendation System is now a days very very common whether its e-commerce companies like Amazon, Flipkart.  "
   ]
  },
  {
   "cell_type": "markdown",
   "id": "06e0727c",
   "metadata": {},
   "source": [
    "# Business Objective\n",
    "\n",
    "The main objective of our recommendation system is to enhance the customer shopping experience and increase sales by implementing a personalized product recommendation system that leverages advanced algorithms and data analytics. The system should more helpful and engaging by recommending products that our customers are most likely to be interested in. By doing this, we aim to boost sales and create a better shopping experience."
   ]
  },
  {
   "cell_type": "markdown",
   "id": "7fb8c2e7",
   "metadata": {},
   "source": [
    "# Constaints\n",
    "\n",
    "* Data Quality and availability\n",
    "* Scalability\n",
    "* Should integrate smoothly\n",
    "* Accuracy and diversity\n",
    "* Algorithm Complexity\n",
    "* A/B Testing and Continuous Improvement"
   ]
  },
  {
   "cell_type": "markdown",
   "id": "2ef19c37",
   "metadata": {},
   "source": [
    "# Machine Learning Formulation\n",
    "\n",
    "* Problem Defination\n",
    "* Data Collection and Preprocessing \n",
    "* Data Cleaning \n",
    "* Analysing and Filtering the data\n",
    "* building and testing the model\n",
    "* deploy and integrate the model "
   ]
  },
  {
   "cell_type": "markdown",
   "id": "566b13df",
   "metadata": {},
   "source": [
    "# Data"
   ]
  },
  {
   "cell_type": "code",
   "execution_count": 1,
   "id": "5e0a225d",
   "metadata": {},
   "outputs": [],
   "source": [
    "#importing the libraries\n",
    "\n",
    "from PIL import Image\n",
    "import requests\n",
    "from io import BytesIO\n",
    "import matplotlib.pyplot as plt\n",
    "import numpy as np\n",
    "import pandas as pd\n",
    "import warnings\n",
    "from bs4 import BeautifulSoup\n",
    "from nltk.corpus import stopwords\n",
    "from nltk.tokenize import word_tokenize\n",
    "import nltk\n",
    "import math\n",
    "import time\n",
    "import re\n",
    "import os\n",
    "import seaborn as sns\n",
    "from collections import Counter\n",
    "from sklearn.feature_extraction.text import CountVectorizer\n",
    "from sklearn.feature_extraction.text import TfidfVectorizer\n",
    "from sklearn.metrics.pairwise import cosine_similarity  \n",
    "from sklearn.metrics import pairwise_distances\n",
    "from matplotlib import gridspec\n",
    "from scipy.sparse import hstack\n",
    "warnings.filterwarnings(\"ignore\")"
   ]
  },
  {
   "cell_type": "code",
   "execution_count": 2,
   "id": "cd582911",
   "metadata": {},
   "outputs": [],
   "source": [
    "# loading the data\n",
    "data = pd.read_json('tops_fashion.json')\n",
    "\n"
   ]
  },
  {
   "cell_type": "code",
   "execution_count": 3,
   "id": "199fec2d",
   "metadata": {},
   "outputs": [
    {
     "data": {
      "text/html": [
       "<div>\n",
       "<style scoped>\n",
       "    .dataframe tbody tr th:only-of-type {\n",
       "        vertical-align: middle;\n",
       "    }\n",
       "\n",
       "    .dataframe tbody tr th {\n",
       "        vertical-align: top;\n",
       "    }\n",
       "\n",
       "    .dataframe thead th {\n",
       "        text-align: right;\n",
       "    }\n",
       "</style>\n",
       "<table border=\"1\" class=\"dataframe\">\n",
       "  <thead>\n",
       "    <tr style=\"text-align: right;\">\n",
       "      <th></th>\n",
       "      <th>sku</th>\n",
       "      <th>asin</th>\n",
       "      <th>product_type_name</th>\n",
       "      <th>formatted_price</th>\n",
       "      <th>author</th>\n",
       "      <th>color</th>\n",
       "      <th>brand</th>\n",
       "      <th>publisher</th>\n",
       "      <th>availability</th>\n",
       "      <th>reviews</th>\n",
       "      <th>large_image_url</th>\n",
       "      <th>availability_type</th>\n",
       "      <th>small_image_url</th>\n",
       "      <th>editorial_review</th>\n",
       "      <th>title</th>\n",
       "      <th>model</th>\n",
       "      <th>medium_image_url</th>\n",
       "      <th>manufacturer</th>\n",
       "      <th>editorial_reivew</th>\n",
       "    </tr>\n",
       "  </thead>\n",
       "  <tbody>\n",
       "    <tr>\n",
       "      <th>0</th>\n",
       "      <td>None</td>\n",
       "      <td>B016I2TS4W</td>\n",
       "      <td>SHIRT</td>\n",
       "      <td>None</td>\n",
       "      <td>None</td>\n",
       "      <td>None</td>\n",
       "      <td>FNC7C</td>\n",
       "      <td>None</td>\n",
       "      <td>None</td>\n",
       "      <td>[False, https://www.amazon.com/reviews/iframe?...</td>\n",
       "      <td>https://images-na.ssl-images-amazon.com/images...</td>\n",
       "      <td>None</td>\n",
       "      <td>https://images-na.ssl-images-amazon.com/images...</td>\n",
       "      <td>Minions Como Superheroes Ironman Women's O Nec...</td>\n",
       "      <td>Minions Como Superheroes Ironman Long Sleeve R...</td>\n",
       "      <td>None</td>\n",
       "      <td>https://images-na.ssl-images-amazon.com/images...</td>\n",
       "      <td>None</td>\n",
       "      <td>NaN</td>\n",
       "    </tr>\n",
       "    <tr>\n",
       "      <th>1</th>\n",
       "      <td>None</td>\n",
       "      <td>B01N49AI08</td>\n",
       "      <td>SHIRT</td>\n",
       "      <td>None</td>\n",
       "      <td>None</td>\n",
       "      <td>None</td>\n",
       "      <td>FIG Clothing</td>\n",
       "      <td>None</td>\n",
       "      <td>None</td>\n",
       "      <td>[False, https://www.amazon.com/reviews/iframe?...</td>\n",
       "      <td>https://images-na.ssl-images-amazon.com/images...</td>\n",
       "      <td>None</td>\n",
       "      <td>https://images-na.ssl-images-amazon.com/images...</td>\n",
       "      <td>Sizing runs on the small side. FIG® recommends...</td>\n",
       "      <td>FIG Clothing Womens Izo Tunic</td>\n",
       "      <td>None</td>\n",
       "      <td>https://images-na.ssl-images-amazon.com/images...</td>\n",
       "      <td>None</td>\n",
       "      <td>NaN</td>\n",
       "    </tr>\n",
       "    <tr>\n",
       "      <th>2</th>\n",
       "      <td>None</td>\n",
       "      <td>B01JDPCOHO</td>\n",
       "      <td>SHIRT</td>\n",
       "      <td>None</td>\n",
       "      <td>None</td>\n",
       "      <td>None</td>\n",
       "      <td>FIG Clothing</td>\n",
       "      <td>None</td>\n",
       "      <td>None</td>\n",
       "      <td>[False, https://www.amazon.com/reviews/iframe?...</td>\n",
       "      <td>https://images-na.ssl-images-amazon.com/images...</td>\n",
       "      <td>None</td>\n",
       "      <td>https://images-na.ssl-images-amazon.com/images...</td>\n",
       "      <td>Sizing runs on the small side. FIG® recommends...</td>\n",
       "      <td>FIG Clothing Womens Won Top</td>\n",
       "      <td>None</td>\n",
       "      <td>https://images-na.ssl-images-amazon.com/images...</td>\n",
       "      <td>None</td>\n",
       "      <td>NaN</td>\n",
       "    </tr>\n",
       "    <tr>\n",
       "      <th>3</th>\n",
       "      <td>None</td>\n",
       "      <td>B01N19U5H5</td>\n",
       "      <td>SHIRT</td>\n",
       "      <td>None</td>\n",
       "      <td>None</td>\n",
       "      <td>None</td>\n",
       "      <td>Focal18</td>\n",
       "      <td>None</td>\n",
       "      <td>None</td>\n",
       "      <td>[True, https://www.amazon.com/reviews/iframe?a...</td>\n",
       "      <td>https://images-na.ssl-images-amazon.com/images...</td>\n",
       "      <td>None</td>\n",
       "      <td>https://images-na.ssl-images-amazon.com/images...</td>\n",
       "      <td>100% Brand New &amp; Fashion&lt;br&gt; Quantity: 1 Piece...</td>\n",
       "      <td>Focal18 Sailor Collar Bubble Sleeve Blouse Shi...</td>\n",
       "      <td>None</td>\n",
       "      <td>https://images-na.ssl-images-amazon.com/images...</td>\n",
       "      <td>None</td>\n",
       "      <td>NaN</td>\n",
       "    </tr>\n",
       "    <tr>\n",
       "      <th>4</th>\n",
       "      <td>None</td>\n",
       "      <td>B004GSI2OS</td>\n",
       "      <td>SHIRT</td>\n",
       "      <td>$26.26</td>\n",
       "      <td>None</td>\n",
       "      <td>Onyx Black/ Stone</td>\n",
       "      <td>FeatherLite</td>\n",
       "      <td>None</td>\n",
       "      <td>Usually ships in 6-10 business days</td>\n",
       "      <td>[False, https://www.amazon.com/reviews/iframe?...</td>\n",
       "      <td>https://images-na.ssl-images-amazon.com/images...</td>\n",
       "      <td>now</td>\n",
       "      <td>https://images-na.ssl-images-amazon.com/images...</td>\n",
       "      <td></td>\n",
       "      <td>Featherlite Ladies' Long Sleeve Stain Resistan...</td>\n",
       "      <td>None</td>\n",
       "      <td>https://images-na.ssl-images-amazon.com/images...</td>\n",
       "      <td>None</td>\n",
       "      <td>NaN</td>\n",
       "    </tr>\n",
       "  </tbody>\n",
       "</table>\n",
       "</div>"
      ],
      "text/plain": [
       "    sku        asin product_type_name formatted_price author   \n",
       "0  None  B016I2TS4W             SHIRT            None   None  \\\n",
       "1  None  B01N49AI08             SHIRT            None   None   \n",
       "2  None  B01JDPCOHO             SHIRT            None   None   \n",
       "3  None  B01N19U5H5             SHIRT            None   None   \n",
       "4  None  B004GSI2OS             SHIRT          $26.26   None   \n",
       "\n",
       "               color         brand publisher   \n",
       "0               None         FNC7C      None  \\\n",
       "1               None  FIG Clothing      None   \n",
       "2               None  FIG Clothing      None   \n",
       "3               None       Focal18      None   \n",
       "4  Onyx Black/ Stone   FeatherLite      None   \n",
       "\n",
       "                          availability   \n",
       "0                                 None  \\\n",
       "1                                 None   \n",
       "2                                 None   \n",
       "3                                 None   \n",
       "4  Usually ships in 6-10 business days   \n",
       "\n",
       "                                             reviews   \n",
       "0  [False, https://www.amazon.com/reviews/iframe?...  \\\n",
       "1  [False, https://www.amazon.com/reviews/iframe?...   \n",
       "2  [False, https://www.amazon.com/reviews/iframe?...   \n",
       "3  [True, https://www.amazon.com/reviews/iframe?a...   \n",
       "4  [False, https://www.amazon.com/reviews/iframe?...   \n",
       "\n",
       "                                     large_image_url availability_type   \n",
       "0  https://images-na.ssl-images-amazon.com/images...              None  \\\n",
       "1  https://images-na.ssl-images-amazon.com/images...              None   \n",
       "2  https://images-na.ssl-images-amazon.com/images...              None   \n",
       "3  https://images-na.ssl-images-amazon.com/images...              None   \n",
       "4  https://images-na.ssl-images-amazon.com/images...               now   \n",
       "\n",
       "                                     small_image_url   \n",
       "0  https://images-na.ssl-images-amazon.com/images...  \\\n",
       "1  https://images-na.ssl-images-amazon.com/images...   \n",
       "2  https://images-na.ssl-images-amazon.com/images...   \n",
       "3  https://images-na.ssl-images-amazon.com/images...   \n",
       "4  https://images-na.ssl-images-amazon.com/images...   \n",
       "\n",
       "                                    editorial_review   \n",
       "0  Minions Como Superheroes Ironman Women's O Nec...  \\\n",
       "1  Sizing runs on the small side. FIG® recommends...   \n",
       "2  Sizing runs on the small side. FIG® recommends...   \n",
       "3  100% Brand New & Fashion<br> Quantity: 1 Piece...   \n",
       "4                                                      \n",
       "\n",
       "                                               title model   \n",
       "0  Minions Como Superheroes Ironman Long Sleeve R...  None  \\\n",
       "1                      FIG Clothing Womens Izo Tunic  None   \n",
       "2                        FIG Clothing Womens Won Top  None   \n",
       "3  Focal18 Sailor Collar Bubble Sleeve Blouse Shi...  None   \n",
       "4  Featherlite Ladies' Long Sleeve Stain Resistan...  None   \n",
       "\n",
       "                                    medium_image_url manufacturer   \n",
       "0  https://images-na.ssl-images-amazon.com/images...         None  \\\n",
       "1  https://images-na.ssl-images-amazon.com/images...         None   \n",
       "2  https://images-na.ssl-images-amazon.com/images...         None   \n",
       "3  https://images-na.ssl-images-amazon.com/images...         None   \n",
       "4  https://images-na.ssl-images-amazon.com/images...         None   \n",
       "\n",
       "  editorial_reivew  \n",
       "0              NaN  \n",
       "1              NaN  \n",
       "2              NaN  \n",
       "3              NaN  \n",
       "4              NaN  "
      ]
     },
     "execution_count": 3,
     "metadata": {},
     "output_type": "execute_result"
    }
   ],
   "source": [
    "# Data overview\n",
    "data.head() "
   ]
  },
  {
   "cell_type": "code",
   "execution_count": 4,
   "id": "01cf605b",
   "metadata": {},
   "outputs": [
    {
     "data": {
      "text/plain": [
       "Index(['sku', 'asin', 'product_type_name', 'formatted_price', 'author',\n",
       "       'color', 'brand', 'publisher', 'availability', 'reviews',\n",
       "       'large_image_url', 'availability_type', 'small_image_url',\n",
       "       'editorial_review', 'title', 'model', 'medium_image_url',\n",
       "       'manufacturer', 'editorial_reivew'],\n",
       "      dtype='object')"
      ]
     },
     "execution_count": 4,
     "metadata": {},
     "output_type": "execute_result"
    }
   ],
   "source": [
    "data.columns"
   ]
  },
  {
   "cell_type": "code",
   "execution_count": 5,
   "id": "f3eb27f9",
   "metadata": {},
   "outputs": [
    {
     "data": {
      "text/plain": [
       "(183138, 19)"
      ]
     },
     "execution_count": 5,
     "metadata": {},
     "output_type": "execute_result"
    }
   ],
   "source": [
    "data.shape"
   ]
  },
  {
   "cell_type": "code",
   "execution_count": 6,
   "id": "15eb1d66",
   "metadata": {},
   "outputs": [
    {
     "name": "stdout",
     "output_type": "stream",
     "text": [
      "Number of data points :  183138 Number of features/variables: 19\n"
     ]
    }
   ],
   "source": [
    "print ('Number of data points : ', data.shape[0], \\\n",
    "       'Number of features/variables:', data.shape[1])"
   ]
  },
  {
   "cell_type": "code",
   "execution_count": 7,
   "id": "ac5ddafa",
   "metadata": {},
   "outputs": [],
   "source": [
    "# We'll be using only below 7 variables from 19 variable\n",
    "data = data[['asin', 'brand', 'color', 'medium_image_url', 'product_type_name', 'title', 'formatted_price']]"
   ]
  },
  {
   "cell_type": "code",
   "execution_count": 8,
   "id": "8167572b",
   "metadata": {},
   "outputs": [
    {
     "name": "stdout",
     "output_type": "stream",
     "text": [
      "Number of data points :  183138 Number of features: 7\n"
     ]
    },
    {
     "data": {
      "text/html": [
       "<div>\n",
       "<style scoped>\n",
       "    .dataframe tbody tr th:only-of-type {\n",
       "        vertical-align: middle;\n",
       "    }\n",
       "\n",
       "    .dataframe tbody tr th {\n",
       "        vertical-align: top;\n",
       "    }\n",
       "\n",
       "    .dataframe thead th {\n",
       "        text-align: right;\n",
       "    }\n",
       "</style>\n",
       "<table border=\"1\" class=\"dataframe\">\n",
       "  <thead>\n",
       "    <tr style=\"text-align: right;\">\n",
       "      <th></th>\n",
       "      <th>asin</th>\n",
       "      <th>brand</th>\n",
       "      <th>color</th>\n",
       "      <th>medium_image_url</th>\n",
       "      <th>product_type_name</th>\n",
       "      <th>title</th>\n",
       "      <th>formatted_price</th>\n",
       "    </tr>\n",
       "  </thead>\n",
       "  <tbody>\n",
       "    <tr>\n",
       "      <th>0</th>\n",
       "      <td>B016I2TS4W</td>\n",
       "      <td>FNC7C</td>\n",
       "      <td>None</td>\n",
       "      <td>https://images-na.ssl-images-amazon.com/images...</td>\n",
       "      <td>SHIRT</td>\n",
       "      <td>Minions Como Superheroes Ironman Long Sleeve R...</td>\n",
       "      <td>None</td>\n",
       "    </tr>\n",
       "    <tr>\n",
       "      <th>1</th>\n",
       "      <td>B01N49AI08</td>\n",
       "      <td>FIG Clothing</td>\n",
       "      <td>None</td>\n",
       "      <td>https://images-na.ssl-images-amazon.com/images...</td>\n",
       "      <td>SHIRT</td>\n",
       "      <td>FIG Clothing Womens Izo Tunic</td>\n",
       "      <td>None</td>\n",
       "    </tr>\n",
       "    <tr>\n",
       "      <th>2</th>\n",
       "      <td>B01JDPCOHO</td>\n",
       "      <td>FIG Clothing</td>\n",
       "      <td>None</td>\n",
       "      <td>https://images-na.ssl-images-amazon.com/images...</td>\n",
       "      <td>SHIRT</td>\n",
       "      <td>FIG Clothing Womens Won Top</td>\n",
       "      <td>None</td>\n",
       "    </tr>\n",
       "    <tr>\n",
       "      <th>3</th>\n",
       "      <td>B01N19U5H5</td>\n",
       "      <td>Focal18</td>\n",
       "      <td>None</td>\n",
       "      <td>https://images-na.ssl-images-amazon.com/images...</td>\n",
       "      <td>SHIRT</td>\n",
       "      <td>Focal18 Sailor Collar Bubble Sleeve Blouse Shi...</td>\n",
       "      <td>None</td>\n",
       "    </tr>\n",
       "    <tr>\n",
       "      <th>4</th>\n",
       "      <td>B004GSI2OS</td>\n",
       "      <td>FeatherLite</td>\n",
       "      <td>Onyx Black/ Stone</td>\n",
       "      <td>https://images-na.ssl-images-amazon.com/images...</td>\n",
       "      <td>SHIRT</td>\n",
       "      <td>Featherlite Ladies' Long Sleeve Stain Resistan...</td>\n",
       "      <td>$26.26</td>\n",
       "    </tr>\n",
       "  </tbody>\n",
       "</table>\n",
       "</div>"
      ],
      "text/plain": [
       "         asin         brand              color   \n",
       "0  B016I2TS4W         FNC7C               None  \\\n",
       "1  B01N49AI08  FIG Clothing               None   \n",
       "2  B01JDPCOHO  FIG Clothing               None   \n",
       "3  B01N19U5H5       Focal18               None   \n",
       "4  B004GSI2OS   FeatherLite  Onyx Black/ Stone   \n",
       "\n",
       "                                    medium_image_url product_type_name   \n",
       "0  https://images-na.ssl-images-amazon.com/images...             SHIRT  \\\n",
       "1  https://images-na.ssl-images-amazon.com/images...             SHIRT   \n",
       "2  https://images-na.ssl-images-amazon.com/images...             SHIRT   \n",
       "3  https://images-na.ssl-images-amazon.com/images...             SHIRT   \n",
       "4  https://images-na.ssl-images-amazon.com/images...             SHIRT   \n",
       "\n",
       "                                               title formatted_price  \n",
       "0  Minions Como Superheroes Ironman Long Sleeve R...            None  \n",
       "1                      FIG Clothing Womens Izo Tunic            None  \n",
       "2                        FIG Clothing Womens Won Top            None  \n",
       "3  Focal18 Sailor Collar Bubble Sleeve Blouse Shi...            None  \n",
       "4  Featherlite Ladies' Long Sleeve Stain Resistan...          $26.26  "
      ]
     },
     "execution_count": 8,
     "metadata": {},
     "output_type": "execute_result"
    }
   ],
   "source": [
    "print ('Number of data points : ', data.shape[0], \\\n",
    "       'Number of features:', data.shape[1])\n",
    "data.head() "
   ]
  },
  {
   "cell_type": "markdown",
   "id": "a1f02571",
   "metadata": {},
   "source": [
    "Lets jump to each feature and understand data better"
   ]
  },
  {
   "cell_type": "markdown",
   "id": "1eeed74b",
   "metadata": {},
   "source": [
    "Basic stats for feature product_type_name"
   ]
  },
  {
   "cell_type": "code",
   "execution_count": 9,
   "id": "68bc300a",
   "metadata": {},
   "outputs": [
    {
     "name": "stdout",
     "output_type": "stream",
     "text": [
      "count     183138\n",
      "unique        72\n",
      "top        SHIRT\n",
      "freq      167794\n",
      "Name: product_type_name, dtype: object\n"
     ]
    }
   ],
   "source": [
    "print(data['product_type_name'].describe())\n",
    "\n",
    "# 91.62% (167794/183138) of the products are shirts,\n",
    "\n"
   ]
  },
  {
   "cell_type": "code",
   "execution_count": 10,
   "id": "73d5b37a",
   "metadata": {},
   "outputs": [
    {
     "name": "stdout",
     "output_type": "stream",
     "text": [
      "['SHIRT' 'SWEATER' 'APPAREL' 'OUTDOOR_RECREATION_PRODUCT'\n",
      " 'BOOKS_1973_AND_LATER' 'PANTS' 'HAT' 'SPORTING_GOODS' 'DRESS' 'UNDERWEAR'\n",
      " 'SKIRT' 'OUTERWEAR' 'BRA' 'ACCESSORY' 'ART_SUPPLIES' 'SLEEPWEAR'\n",
      " 'ORCA_SHIRT' 'HANDBAG' 'PET_SUPPLIES' 'SHOES' 'KITCHEN' 'ADULT_COSTUME'\n",
      " 'HOME_BED_AND_BATH' 'MISC_OTHER' 'BLAZER' 'HEALTH_PERSONAL_CARE'\n",
      " 'TOYS_AND_GAMES' 'SWIMWEAR' 'CONSUMER_ELECTRONICS' 'SHORTS' 'HOME'\n",
      " 'AUTO_PART' 'OFFICE_PRODUCTS' 'ETHNIC_WEAR' 'BEAUTY'\n",
      " 'INSTRUMENT_PARTS_AND_ACCESSORIES' 'POWERSPORTS_PROTECTIVE_GEAR' 'SHIRTS'\n",
      " 'ABIS_APPAREL' 'AUTO_ACCESSORY' 'NONAPPARELMISC' 'TOOLS' 'BABY_PRODUCT'\n",
      " 'SOCKSHOSIERY' 'POWERSPORTS_RIDING_SHIRT' 'EYEWEAR' 'SUIT'\n",
      " 'OUTDOOR_LIVING' 'POWERSPORTS_RIDING_JACKET' 'HARDWARE' 'SAFETY_SUPPLY'\n",
      " 'ABIS_DVD' 'VIDEO_DVD' 'GOLF_CLUB' 'MUSIC_POPULAR_VINYL'\n",
      " 'HOME_FURNITURE_AND_DECOR' 'TABLET_COMPUTER' 'GUILD_ACCESSORIES'\n",
      " 'ABIS_SPORTS' 'ART_AND_CRAFT_SUPPLY' 'BAG' 'MECHANICAL_COMPONENTS'\n",
      " 'SOUND_AND_RECORDING_EQUIPMENT' 'COMPUTER_COMPONENT' 'JEWELRY'\n",
      " 'BUILDING_MATERIAL' 'LUGGAGE' 'BABY_COSTUME' 'POWERSPORTS_VEHICLE_PART'\n",
      " 'PROFESSIONAL_HEALTHCARE' 'SEEDS_AND_PLANTS' 'WIRELESS_ACCESSORY']\n"
     ]
    }
   ],
   "source": [
    "print(data['product_type_name'].unique())"
   ]
  },
  {
   "cell_type": "code",
   "execution_count": 11,
   "id": "8c153d56",
   "metadata": {},
   "outputs": [
    {
     "name": "stdout",
     "output_type": "stream",
     "text": [
      "[('SHIRT', 167794), ('APPAREL', 3549), ('BOOKS_1973_AND_LATER', 3336), ('DRESS', 1584), ('SPORTING_GOODS', 1281), ('SWEATER', 837), ('OUTERWEAR', 796), ('OUTDOOR_RECREATION_PRODUCT', 729), ('ACCESSORY', 636), ('UNDERWEAR', 425)]\n"
     ]
    }
   ],
   "source": [
    "product_list=Counter(data['product_type_name'])\n",
    "print(product_list.most_common(10))\n",
    "\n",
    "# this will give product_wise Count of each category"
   ]
  },
  {
   "cell_type": "markdown",
   "id": "4658ed16",
   "metadata": {},
   "source": [
    "Basic stats for feature brand\n"
   ]
  },
  {
   "cell_type": "code",
   "execution_count": 12,
   "id": "f85d708b",
   "metadata": {},
   "outputs": [
    {
     "name": "stdout",
     "output_type": "stream",
     "text": [
      "count     182987\n",
      "unique     10577\n",
      "top         Zago\n",
      "freq         223\n",
      "Name: brand, dtype: object\n"
     ]
    }
   ],
   "source": [
    "print(data['brand'].describe())"
   ]
  },
  {
   "cell_type": "code",
   "execution_count": 13,
   "id": "b358e86c",
   "metadata": {},
   "outputs": [
    {
     "data": {
      "text/plain": [
       "[('Zago', 223),\n",
       " ('XQS', 222),\n",
       " ('Yayun', 215),\n",
       " ('YUNY', 198),\n",
       " ('XiaoTianXin-women clothes', 193),\n",
       " ('Generic', 192),\n",
       " ('Boohoo', 190),\n",
       " ('Alion', 188),\n",
       " ('Abetteric', 187),\n",
       " ('TheMogan', 187)]"
      ]
     },
     "execution_count": 13,
     "metadata": {},
     "output_type": "execute_result"
    }
   ],
   "source": [
    "brand_count = Counter(list(data['brand']))\n",
    "brand_count.most_common(10)\n",
    "\n",
    "#This will give count of each brand"
   ]
  },
  {
   "cell_type": "markdown",
   "id": "69b0165b",
   "metadata": {},
   "source": [
    "Basic feature for feature color"
   ]
  },
  {
   "cell_type": "code",
   "execution_count": 14,
   "id": "b291d1e4",
   "metadata": {},
   "outputs": [
    {
     "name": "stdout",
     "output_type": "stream",
     "text": [
      "count     64956\n",
      "unique     7380\n",
      "top       Black\n",
      "freq      13207\n",
      "Name: color, dtype: object\n"
     ]
    }
   ],
   "source": [
    "print(data['color'].describe())\n",
    "\n",
    "\n",
    "# we have 7380 unique colors\n",
    "# 7.2% of products are black in color\n",
    "# 64956 of 183138 products have brand information. That's approx 35.4%."
   ]
  },
  {
   "cell_type": "code",
   "execution_count": 15,
   "id": "478e02ca",
   "metadata": {},
   "outputs": [
    {
     "data": {
      "text/plain": [
       "[(None, 118182),\n",
       " ('Black', 13207),\n",
       " ('White', 8616),\n",
       " ('Blue', 3570),\n",
       " ('Red', 2289),\n",
       " ('Pink', 1842),\n",
       " ('Grey', 1499),\n",
       " ('*', 1388),\n",
       " ('Green', 1258),\n",
       " ('Multi', 1203)]"
      ]
     },
     "execution_count": 15,
     "metadata": {},
     "output_type": "execute_result"
    }
   ],
   "source": [
    "color_count = Counter(list(data['color']))\n",
    "color_count.most_common(10)\n",
    "\n",
    "# This will give the colorwise Count"
   ]
  },
  {
   "cell_type": "markdown",
   "id": "c529a5b3",
   "metadata": {},
   "source": [
    "Basic stats for feature:formatted price\n"
   ]
  },
  {
   "cell_type": "code",
   "execution_count": 16,
   "id": "e62a1349",
   "metadata": {},
   "outputs": [
    {
     "name": "stdout",
     "output_type": "stream",
     "text": [
      "count      28395\n",
      "unique      3135\n",
      "top       $19.99\n",
      "freq         945\n",
      "Name: formatted_price, dtype: object\n"
     ]
    }
   ],
   "source": [
    " \n",
    "print(data['formatted_price'].describe())\n",
    "\n",
    "# Only 28,395 (15.5% of whole data) products with price information"
   ]
  },
  {
   "cell_type": "code",
   "execution_count": 17,
   "id": "4ac092b3",
   "metadata": {},
   "outputs": [
    {
     "data": {
      "text/plain": [
       "[(None, 154743),\n",
       " ('$19.99', 945),\n",
       " ('$9.99', 749),\n",
       " ('$9.50', 601),\n",
       " ('$14.99', 472),\n",
       " ('$7.50', 463),\n",
       " ('$24.99', 414),\n",
       " ('$29.99', 370),\n",
       " ('$8.99', 343),\n",
       " ('$9.01', 336)]"
      ]
     },
     "execution_count": 17,
     "metadata": {},
     "output_type": "execute_result"
    }
   ],
   "source": [
    "price_count = Counter(list(data['formatted_price']))\n",
    "price_count.most_common(10)\n",
    "\n",
    "# this will give count of each price varient."
   ]
  },
  {
   "cell_type": "markdown",
   "id": "f519b9d5",
   "metadata": {},
   "source": [
    "Basic stats for feature: Title"
   ]
  },
  {
   "cell_type": "code",
   "execution_count": 18,
   "id": "d6997221",
   "metadata": {
    "scrolled": true
   },
   "outputs": [
    {
     "name": "stdout",
     "output_type": "stream",
     "text": [
      "count                                                183138\n",
      "unique                                               175985\n",
      "top       Nakoda Cotton Self Print Straight Kurti For Women\n",
      "freq                                                     77\n",
      "Name: title, dtype: object\n"
     ]
    }
   ],
   "source": [
    "print(data['title'].describe())\n",
    "\n",
    "# All of the products have a title. \n",
    "# Titles are fairly descriptive of what the product is. \n",
    "# We use titles extensively in this workshop \n",
    "# as they are short and informative.\n",
    "\n"
   ]
  },
  {
   "cell_type": "code",
   "execution_count": 19,
   "id": "25b25a19",
   "metadata": {},
   "outputs": [
    {
     "data": {
      "text/plain": [
       "7153"
      ]
     },
     "execution_count": 19,
     "metadata": {},
     "output_type": "execute_result"
    }
   ],
   "source": [
    "# Duplicate items\n",
    "data['title'].duplicated().sum()"
   ]
  },
  {
   "cell_type": "code",
   "execution_count": 20,
   "id": "74b4082a",
   "metadata": {},
   "outputs": [
    {
     "data": {
      "text/plain": [
       "(2734, 7)"
      ]
     },
     "execution_count": 20,
     "metadata": {},
     "output_type": "execute_result"
    }
   ],
   "source": [
    "# Duplicate items with different colors so total we have 2734 items have same title but different color\n",
    "same_title_diff_color = data.groupby('title').filter(lambda x: x['color'].nunique() > 1)\n",
    "same_title_diff_color.shape"
   ]
  },
  {
   "cell_type": "code",
   "execution_count": 21,
   "id": "f114e6fc",
   "metadata": {},
   "outputs": [
    {
     "name": "stdout",
     "output_type": "stream",
     "text": [
      "Number of data points After eliminating price=NULL : 28395\n"
     ]
    }
   ],
   "source": [
    "# consider products which have price information\n",
    "# data['formatted_price'].isnull() => gives the information \n",
    "data = data.loc[~data['formatted_price'].isnull()]\n",
    "print('Number of data points After eliminating price=NULL :', data.shape[0])"
   ]
  },
  {
   "cell_type": "code",
   "execution_count": 22,
   "id": "cff97119",
   "metadata": {},
   "outputs": [
    {
     "name": "stdout",
     "output_type": "stream",
     "text": [
      "Number of data points After eliminating color=NULL : 28385\n"
     ]
    }
   ],
   "source": [
    "# consider products which have color information\n",
    "data =data.loc[~data['color'].isnull()]\n",
    "print('Number of data points After eliminating color=NULL :', data.shape[0])"
   ]
  },
  {
   "cell_type": "markdown",
   "id": "14952d95",
   "metadata": {},
   "source": [
    "We brought down the number of data points from 183K to 28K.\n"
   ]
  },
  {
   "cell_type": "markdown",
   "id": "22a27206",
   "metadata": {},
   "source": [
    "# DATA CLEANING"
   ]
  },
  {
   "cell_type": "code",
   "execution_count": 23,
   "id": "7ee29659",
   "metadata": {},
   "outputs": [],
   "source": [
    "#removing all the title with less than 4 words\n",
    "\n",
    "data=data[data['title'].apply(lambda x: len(x.split())>4)]"
   ]
  },
  {
   "cell_type": "code",
   "execution_count": 24,
   "id": "a291663f",
   "metadata": {},
   "outputs": [
    {
     "data": {
      "text/plain": [
       "(27949, 7)"
      ]
     },
     "execution_count": 24,
     "metadata": {},
     "output_type": "execute_result"
    }
   ],
   "source": [
    "data.shape #now we have 27949 rows"
   ]
  },
  {
   "cell_type": "code",
   "execution_count": 25,
   "id": "e8cf0b61",
   "metadata": {},
   "outputs": [],
   "source": [
    "#now let's sort the data based on title(alphabetical order)\n",
    "data.sort_values(\"title\", inplace=True,ascending=False)"
   ]
  },
  {
   "cell_type": "code",
   "execution_count": 26,
   "id": "2f8ed7f6",
   "metadata": {},
   "outputs": [
    {
     "data": {
      "text/plain": [
       "(27949, 7)"
      ]
     },
     "execution_count": 26,
     "metadata": {},
     "output_type": "execute_result"
    }
   ],
   "source": [
    "data.shape"
   ]
  },
  {
   "cell_type": "code",
   "execution_count": 27,
   "id": "ba2d3798",
   "metadata": {},
   "outputs": [
    {
     "data": {
      "text/html": [
       "<div>\n",
       "<style scoped>\n",
       "    .dataframe tbody tr th:only-of-type {\n",
       "        vertical-align: middle;\n",
       "    }\n",
       "\n",
       "    .dataframe tbody tr th {\n",
       "        vertical-align: top;\n",
       "    }\n",
       "\n",
       "    .dataframe thead th {\n",
       "        text-align: right;\n",
       "    }\n",
       "</style>\n",
       "<table border=\"1\" class=\"dataframe\">\n",
       "  <thead>\n",
       "    <tr style=\"text-align: right;\">\n",
       "      <th></th>\n",
       "      <th>asin</th>\n",
       "      <th>brand</th>\n",
       "      <th>color</th>\n",
       "      <th>medium_image_url</th>\n",
       "      <th>product_type_name</th>\n",
       "      <th>title</th>\n",
       "      <th>formatted_price</th>\n",
       "    </tr>\n",
       "  </thead>\n",
       "  <tbody>\n",
       "    <tr>\n",
       "      <th>61973</th>\n",
       "      <td>B06Y1KZ2WB</td>\n",
       "      <td>Éclair</td>\n",
       "      <td>Black/Pink</td>\n",
       "      <td>https://images-na.ssl-images-amazon.com/images...</td>\n",
       "      <td>SHIRT</td>\n",
       "      <td>Éclair Women's Printed Thin Strap Blouse Black...</td>\n",
       "      <td>$24.99</td>\n",
       "    </tr>\n",
       "    <tr>\n",
       "      <th>133820</th>\n",
       "      <td>B010RV33VE</td>\n",
       "      <td>xiaoming</td>\n",
       "      <td>Pink</td>\n",
       "      <td>https://images-na.ssl-images-amazon.com/images...</td>\n",
       "      <td>SHIRT</td>\n",
       "      <td>xiaoming Womens Sleeveless Loose Long T-shirts...</td>\n",
       "      <td>$18.19</td>\n",
       "    </tr>\n",
       "    <tr>\n",
       "      <th>81461</th>\n",
       "      <td>B01DDSDLNS</td>\n",
       "      <td>xiaoming</td>\n",
       "      <td>White</td>\n",
       "      <td>https://images-na.ssl-images-amazon.com/images...</td>\n",
       "      <td>SHIRT</td>\n",
       "      <td>xiaoming Women's White Long Sleeve Single Brea...</td>\n",
       "      <td>$21.58</td>\n",
       "    </tr>\n",
       "    <tr>\n",
       "      <th>75995</th>\n",
       "      <td>B00X5LYO9Y</td>\n",
       "      <td>xiaoming</td>\n",
       "      <td>Red Anchors</td>\n",
       "      <td>https://images-na.ssl-images-amazon.com/images...</td>\n",
       "      <td>SHIRT</td>\n",
       "      <td>xiaoming Stripes Tank Patch/Bear Sleeve Anchor...</td>\n",
       "      <td>$15.91</td>\n",
       "    </tr>\n",
       "    <tr>\n",
       "      <th>151570</th>\n",
       "      <td>B00WPJG35K</td>\n",
       "      <td>xiaoming</td>\n",
       "      <td>White</td>\n",
       "      <td>https://images-na.ssl-images-amazon.com/images...</td>\n",
       "      <td>SHIRT</td>\n",
       "      <td>xiaoming Sleeve Sheer Loose Tassel Kimono Woma...</td>\n",
       "      <td>$14.32</td>\n",
       "    </tr>\n",
       "  </tbody>\n",
       "</table>\n",
       "</div>"
      ],
      "text/plain": [
       "              asin     brand        color   \n",
       "61973   B06Y1KZ2WB    Éclair   Black/Pink  \\\n",
       "133820  B010RV33VE  xiaoming         Pink   \n",
       "81461   B01DDSDLNS  xiaoming        White   \n",
       "75995   B00X5LYO9Y  xiaoming  Red Anchors   \n",
       "151570  B00WPJG35K  xiaoming        White   \n",
       "\n",
       "                                         medium_image_url product_type_name   \n",
       "61973   https://images-na.ssl-images-amazon.com/images...             SHIRT  \\\n",
       "133820  https://images-na.ssl-images-amazon.com/images...             SHIRT   \n",
       "81461   https://images-na.ssl-images-amazon.com/images...             SHIRT   \n",
       "75995   https://images-na.ssl-images-amazon.com/images...             SHIRT   \n",
       "151570  https://images-na.ssl-images-amazon.com/images...             SHIRT   \n",
       "\n",
       "                                                    title formatted_price  \n",
       "61973   Éclair Women's Printed Thin Strap Blouse Black...          $24.99  \n",
       "133820  xiaoming Womens Sleeveless Loose Long T-shirts...          $18.19  \n",
       "81461   xiaoming Women's White Long Sleeve Single Brea...          $21.58  \n",
       "75995   xiaoming Stripes Tank Patch/Bear Sleeve Anchor...          $15.91  \n",
       "151570  xiaoming Sleeve Sheer Loose Tassel Kimono Woma...          $14.32  "
      ]
     },
     "execution_count": 27,
     "metadata": {},
     "output_type": "execute_result"
    }
   ],
   "source": [
    "data.head()"
   ]
  },
  {
   "cell_type": "code",
   "execution_count": 28,
   "id": "1e10f7fc",
   "metadata": {},
   "outputs": [
    {
     "data": {
      "text/plain": [
       "'Supernatural Chibis Sam Dean And Castiel Short Sleeve T Shirts For Lady Purple S'"
      ]
     },
     "execution_count": 28,
     "metadata": {},
     "output_type": "execute_result"
    }
   ],
   "source": [
    "data.title[21]"
   ]
  },
  {
   "cell_type": "code",
   "execution_count": 29,
   "id": "7e49bc27",
   "metadata": {},
   "outputs": [],
   "source": [
    "data['Gender'] = data['title'].apply(lambda x: 'female' if ('ladies' in x.lower() or 'women' in x.lower() or 'top' in x.lower())else 'male')"
   ]
  },
  {
   "cell_type": "code",
   "execution_count": 30,
   "id": "350d629b",
   "metadata": {},
   "outputs": [
    {
     "data": {
      "text/html": [
       "<div>\n",
       "<style scoped>\n",
       "    .dataframe tbody tr th:only-of-type {\n",
       "        vertical-align: middle;\n",
       "    }\n",
       "\n",
       "    .dataframe tbody tr th {\n",
       "        vertical-align: top;\n",
       "    }\n",
       "\n",
       "    .dataframe thead th {\n",
       "        text-align: right;\n",
       "    }\n",
       "</style>\n",
       "<table border=\"1\" class=\"dataframe\">\n",
       "  <thead>\n",
       "    <tr style=\"text-align: right;\">\n",
       "      <th></th>\n",
       "      <th>asin</th>\n",
       "      <th>brand</th>\n",
       "      <th>color</th>\n",
       "      <th>medium_image_url</th>\n",
       "      <th>product_type_name</th>\n",
       "      <th>title</th>\n",
       "      <th>formatted_price</th>\n",
       "      <th>Gender</th>\n",
       "    </tr>\n",
       "  </thead>\n",
       "  <tbody>\n",
       "    <tr>\n",
       "      <th>61973</th>\n",
       "      <td>B06Y1KZ2WB</td>\n",
       "      <td>Éclair</td>\n",
       "      <td>Black/Pink</td>\n",
       "      <td>https://images-na.ssl-images-amazon.com/images...</td>\n",
       "      <td>SHIRT</td>\n",
       "      <td>Éclair Women's Printed Thin Strap Blouse Black...</td>\n",
       "      <td>$24.99</td>\n",
       "      <td>female</td>\n",
       "    </tr>\n",
       "    <tr>\n",
       "      <th>133820</th>\n",
       "      <td>B010RV33VE</td>\n",
       "      <td>xiaoming</td>\n",
       "      <td>Pink</td>\n",
       "      <td>https://images-na.ssl-images-amazon.com/images...</td>\n",
       "      <td>SHIRT</td>\n",
       "      <td>xiaoming Womens Sleeveless Loose Long T-shirts...</td>\n",
       "      <td>$18.19</td>\n",
       "      <td>female</td>\n",
       "    </tr>\n",
       "    <tr>\n",
       "      <th>81461</th>\n",
       "      <td>B01DDSDLNS</td>\n",
       "      <td>xiaoming</td>\n",
       "      <td>White</td>\n",
       "      <td>https://images-na.ssl-images-amazon.com/images...</td>\n",
       "      <td>SHIRT</td>\n",
       "      <td>xiaoming Women's White Long Sleeve Single Brea...</td>\n",
       "      <td>$21.58</td>\n",
       "      <td>female</td>\n",
       "    </tr>\n",
       "    <tr>\n",
       "      <th>75995</th>\n",
       "      <td>B00X5LYO9Y</td>\n",
       "      <td>xiaoming</td>\n",
       "      <td>Red Anchors</td>\n",
       "      <td>https://images-na.ssl-images-amazon.com/images...</td>\n",
       "      <td>SHIRT</td>\n",
       "      <td>xiaoming Stripes Tank Patch/Bear Sleeve Anchor...</td>\n",
       "      <td>$15.91</td>\n",
       "      <td>female</td>\n",
       "    </tr>\n",
       "    <tr>\n",
       "      <th>151570</th>\n",
       "      <td>B00WPJG35K</td>\n",
       "      <td>xiaoming</td>\n",
       "      <td>White</td>\n",
       "      <td>https://images-na.ssl-images-amazon.com/images...</td>\n",
       "      <td>SHIRT</td>\n",
       "      <td>xiaoming Sleeve Sheer Loose Tassel Kimono Woma...</td>\n",
       "      <td>$14.32</td>\n",
       "      <td>male</td>\n",
       "    </tr>\n",
       "  </tbody>\n",
       "</table>\n",
       "</div>"
      ],
      "text/plain": [
       "              asin     brand        color   \n",
       "61973   B06Y1KZ2WB    Éclair   Black/Pink  \\\n",
       "133820  B010RV33VE  xiaoming         Pink   \n",
       "81461   B01DDSDLNS  xiaoming        White   \n",
       "75995   B00X5LYO9Y  xiaoming  Red Anchors   \n",
       "151570  B00WPJG35K  xiaoming        White   \n",
       "\n",
       "                                         medium_image_url product_type_name   \n",
       "61973   https://images-na.ssl-images-amazon.com/images...             SHIRT  \\\n",
       "133820  https://images-na.ssl-images-amazon.com/images...             SHIRT   \n",
       "81461   https://images-na.ssl-images-amazon.com/images...             SHIRT   \n",
       "75995   https://images-na.ssl-images-amazon.com/images...             SHIRT   \n",
       "151570  https://images-na.ssl-images-amazon.com/images...             SHIRT   \n",
       "\n",
       "                                                    title formatted_price   \n",
       "61973   Éclair Women's Printed Thin Strap Blouse Black...          $24.99  \\\n",
       "133820  xiaoming Womens Sleeveless Loose Long T-shirts...          $18.19   \n",
       "81461   xiaoming Women's White Long Sleeve Single Brea...          $21.58   \n",
       "75995   xiaoming Stripes Tank Patch/Bear Sleeve Anchor...          $15.91   \n",
       "151570  xiaoming Sleeve Sheer Loose Tassel Kimono Woma...          $14.32   \n",
       "\n",
       "        Gender  \n",
       "61973   female  \n",
       "133820  female  \n",
       "81461   female  \n",
       "75995   female  \n",
       "151570    male  "
      ]
     },
     "execution_count": 30,
     "metadata": {},
     "output_type": "execute_result"
    }
   ],
   "source": [
    "data.head()"
   ]
  },
  {
   "cell_type": "code",
   "execution_count": 31,
   "id": "6e2dfb76",
   "metadata": {},
   "outputs": [],
   "source": [
    "def categories_sleeve(title):\n",
    "    title = title.lower()\n",
    "    if 'short sleeve' in title:\n",
    "        return 'short sleeve'\n",
    "    \n",
    "    if 'long sleeve' in title:\n",
    "        return 'long sleeve'\n",
    "    \n",
    "    if 'sleeveless'and 'tank' in title:\n",
    "        return 'sleeveless'\n",
    "    "
   ]
  },
  {
   "cell_type": "code",
   "execution_count": 32,
   "id": "0fbdf8d0",
   "metadata": {},
   "outputs": [],
   "source": [
    "data['sleeve_type'] = data['title'].apply(categories_sleeve)"
   ]
  },
  {
   "cell_type": "code",
   "execution_count": 33,
   "id": "7f701577",
   "metadata": {},
   "outputs": [
    {
     "data": {
      "text/html": [
       "<div>\n",
       "<style scoped>\n",
       "    .dataframe tbody tr th:only-of-type {\n",
       "        vertical-align: middle;\n",
       "    }\n",
       "\n",
       "    .dataframe tbody tr th {\n",
       "        vertical-align: top;\n",
       "    }\n",
       "\n",
       "    .dataframe thead th {\n",
       "        text-align: right;\n",
       "    }\n",
       "</style>\n",
       "<table border=\"1\" class=\"dataframe\">\n",
       "  <thead>\n",
       "    <tr style=\"text-align: right;\">\n",
       "      <th></th>\n",
       "      <th>asin</th>\n",
       "      <th>brand</th>\n",
       "      <th>color</th>\n",
       "      <th>medium_image_url</th>\n",
       "      <th>product_type_name</th>\n",
       "      <th>title</th>\n",
       "      <th>formatted_price</th>\n",
       "      <th>Gender</th>\n",
       "      <th>sleeve_type</th>\n",
       "    </tr>\n",
       "  </thead>\n",
       "  <tbody>\n",
       "    <tr>\n",
       "      <th>61973</th>\n",
       "      <td>B06Y1KZ2WB</td>\n",
       "      <td>Éclair</td>\n",
       "      <td>Black/Pink</td>\n",
       "      <td>https://images-na.ssl-images-amazon.com/images...</td>\n",
       "      <td>SHIRT</td>\n",
       "      <td>Éclair Women's Printed Thin Strap Blouse Black...</td>\n",
       "      <td>$24.99</td>\n",
       "      <td>female</td>\n",
       "      <td>None</td>\n",
       "    </tr>\n",
       "    <tr>\n",
       "      <th>133820</th>\n",
       "      <td>B010RV33VE</td>\n",
       "      <td>xiaoming</td>\n",
       "      <td>Pink</td>\n",
       "      <td>https://images-na.ssl-images-amazon.com/images...</td>\n",
       "      <td>SHIRT</td>\n",
       "      <td>xiaoming Womens Sleeveless Loose Long T-shirts...</td>\n",
       "      <td>$18.19</td>\n",
       "      <td>female</td>\n",
       "      <td>None</td>\n",
       "    </tr>\n",
       "    <tr>\n",
       "      <th>81461</th>\n",
       "      <td>B01DDSDLNS</td>\n",
       "      <td>xiaoming</td>\n",
       "      <td>White</td>\n",
       "      <td>https://images-na.ssl-images-amazon.com/images...</td>\n",
       "      <td>SHIRT</td>\n",
       "      <td>xiaoming Women's White Long Sleeve Single Brea...</td>\n",
       "      <td>$21.58</td>\n",
       "      <td>female</td>\n",
       "      <td>long sleeve</td>\n",
       "    </tr>\n",
       "    <tr>\n",
       "      <th>75995</th>\n",
       "      <td>B00X5LYO9Y</td>\n",
       "      <td>xiaoming</td>\n",
       "      <td>Red Anchors</td>\n",
       "      <td>https://images-na.ssl-images-amazon.com/images...</td>\n",
       "      <td>SHIRT</td>\n",
       "      <td>xiaoming Stripes Tank Patch/Bear Sleeve Anchor...</td>\n",
       "      <td>$15.91</td>\n",
       "      <td>female</td>\n",
       "      <td>sleeveless</td>\n",
       "    </tr>\n",
       "    <tr>\n",
       "      <th>151570</th>\n",
       "      <td>B00WPJG35K</td>\n",
       "      <td>xiaoming</td>\n",
       "      <td>White</td>\n",
       "      <td>https://images-na.ssl-images-amazon.com/images...</td>\n",
       "      <td>SHIRT</td>\n",
       "      <td>xiaoming Sleeve Sheer Loose Tassel Kimono Woma...</td>\n",
       "      <td>$14.32</td>\n",
       "      <td>male</td>\n",
       "      <td>None</td>\n",
       "    </tr>\n",
       "  </tbody>\n",
       "</table>\n",
       "</div>"
      ],
      "text/plain": [
       "              asin     brand        color   \n",
       "61973   B06Y1KZ2WB    Éclair   Black/Pink  \\\n",
       "133820  B010RV33VE  xiaoming         Pink   \n",
       "81461   B01DDSDLNS  xiaoming        White   \n",
       "75995   B00X5LYO9Y  xiaoming  Red Anchors   \n",
       "151570  B00WPJG35K  xiaoming        White   \n",
       "\n",
       "                                         medium_image_url product_type_name   \n",
       "61973   https://images-na.ssl-images-amazon.com/images...             SHIRT  \\\n",
       "133820  https://images-na.ssl-images-amazon.com/images...             SHIRT   \n",
       "81461   https://images-na.ssl-images-amazon.com/images...             SHIRT   \n",
       "75995   https://images-na.ssl-images-amazon.com/images...             SHIRT   \n",
       "151570  https://images-na.ssl-images-amazon.com/images...             SHIRT   \n",
       "\n",
       "                                                    title formatted_price   \n",
       "61973   Éclair Women's Printed Thin Strap Blouse Black...          $24.99  \\\n",
       "133820  xiaoming Womens Sleeveless Loose Long T-shirts...          $18.19   \n",
       "81461   xiaoming Women's White Long Sleeve Single Brea...          $21.58   \n",
       "75995   xiaoming Stripes Tank Patch/Bear Sleeve Anchor...          $15.91   \n",
       "151570  xiaoming Sleeve Sheer Loose Tassel Kimono Woma...          $14.32   \n",
       "\n",
       "        Gender  sleeve_type  \n",
       "61973   female         None  \n",
       "133820  female         None  \n",
       "81461   female  long sleeve  \n",
       "75995   female   sleeveless  \n",
       "151570    male         None  "
      ]
     },
     "execution_count": 33,
     "metadata": {},
     "output_type": "execute_result"
    }
   ],
   "source": [
    "data.head()"
   ]
  },
  {
   "cell_type": "code",
   "execution_count": 34,
   "id": "0335ad07",
   "metadata": {},
   "outputs": [
    {
     "data": {
      "text/plain": [
       "sleeve_type\n",
       "sleeveless      3812\n",
       "long sleeve     2464\n",
       "short sleeve    1683\n",
       "Name: count, dtype: int64"
      ]
     },
     "execution_count": 34,
     "metadata": {},
     "output_type": "execute_result"
    }
   ],
   "source": [
    "data['sleeve_type'].value_counts()"
   ]
  },
  {
   "cell_type": "code",
   "execution_count": 35,
   "id": "aa36e000",
   "metadata": {},
   "outputs": [
    {
     "data": {
      "text/plain": [
       "19990"
      ]
     },
     "execution_count": 35,
     "metadata": {},
     "output_type": "execute_result"
    }
   ],
   "source": [
    "data['sleeve_type'].isnull().sum()"
   ]
  },
  {
   "cell_type": "code",
   "execution_count": 36,
   "id": "35f773f0",
   "metadata": {},
   "outputs": [],
   "source": [
    "product_type_count = data['product_type_name'].value_counts()"
   ]
  },
  {
   "cell_type": "code",
   "execution_count": 37,
   "id": "7262a58a",
   "metadata": {},
   "outputs": [],
   "source": [
    "data_filtered = data[data['product_type_name'].isin(product_type_count[product_type_count > 10].index)]\n"
   ]
  },
  {
   "cell_type": "code",
   "execution_count": 38,
   "id": "73ca4ce5",
   "metadata": {},
   "outputs": [
    {
     "data": {
      "text/plain": [
       "product_type_name\n",
       "SHIRT                          21162\n",
       "BOOKS_1973_AND_LATER            3327\n",
       "APPAREL                         1038\n",
       "ACCESSORY                        553\n",
       "SPORTING_GOODS                   362\n",
       "OUTERWEAR                        334\n",
       "DRESS                            173\n",
       "SWEATER                          147\n",
       "BLAZER                           127\n",
       "OUTDOOR_RECREATION_PRODUCT       104\n",
       "HEALTH_PERSONAL_CARE              79\n",
       "TOYS_AND_GAMES                    77\n",
       "MISC_OTHER                        62\n",
       "UNDERWEAR                         57\n",
       "SLEEPWEAR                         49\n",
       "AUTO_ACCESSORY                    43\n",
       "PANTS                             40\n",
       "ETHNIC_WEAR                       34\n",
       "POWERSPORTS_PROTECTIVE_GEAR       30\n",
       "SKIRT                             24\n",
       "BRA                               15\n",
       "HANDBAG                           14\n",
       "TOOLS                             13\n",
       "Name: count, dtype: int64"
      ]
     },
     "execution_count": 38,
     "metadata": {},
     "output_type": "execute_result"
    }
   ],
   "source": [
    "data_filtered['product_type_name'].value_counts()"
   ]
  },
  {
   "cell_type": "code",
   "execution_count": 39,
   "id": "30bdd4b9",
   "metadata": {},
   "outputs": [],
   "source": [
    "data= data_filtered"
   ]
  },
  {
   "cell_type": "code",
   "execution_count": 40,
   "id": "7509f92f",
   "metadata": {},
   "outputs": [
    {
     "data": {
      "text/plain": [
       "product_type_name\n",
       "SHIRT                          21162\n",
       "BOOKS_1973_AND_LATER            3327\n",
       "APPAREL                         1038\n",
       "ACCESSORY                        553\n",
       "SPORTING_GOODS                   362\n",
       "OUTERWEAR                        334\n",
       "DRESS                            173\n",
       "SWEATER                          147\n",
       "BLAZER                           127\n",
       "OUTDOOR_RECREATION_PRODUCT       104\n",
       "HEALTH_PERSONAL_CARE              79\n",
       "TOYS_AND_GAMES                    77\n",
       "MISC_OTHER                        62\n",
       "UNDERWEAR                         57\n",
       "SLEEPWEAR                         49\n",
       "AUTO_ACCESSORY                    43\n",
       "PANTS                             40\n",
       "ETHNIC_WEAR                       34\n",
       "POWERSPORTS_PROTECTIVE_GEAR       30\n",
       "SKIRT                             24\n",
       "BRA                               15\n",
       "HANDBAG                           14\n",
       "TOOLS                             13\n",
       "Name: count, dtype: int64"
      ]
     },
     "execution_count": 40,
     "metadata": {},
     "output_type": "execute_result"
    }
   ],
   "source": [
    "data['product_type_name'].value_counts()"
   ]
  },
  {
   "cell_type": "code",
   "execution_count": 41,
   "id": "4e53ffe3",
   "metadata": {},
   "outputs": [
    {
     "data": {
      "text/html": [
       "<div>\n",
       "<style scoped>\n",
       "    .dataframe tbody tr th:only-of-type {\n",
       "        vertical-align: middle;\n",
       "    }\n",
       "\n",
       "    .dataframe tbody tr th {\n",
       "        vertical-align: top;\n",
       "    }\n",
       "\n",
       "    .dataframe thead th {\n",
       "        text-align: right;\n",
       "    }\n",
       "</style>\n",
       "<table border=\"1\" class=\"dataframe\">\n",
       "  <thead>\n",
       "    <tr style=\"text-align: right;\">\n",
       "      <th></th>\n",
       "      <th>asin</th>\n",
       "      <th>brand</th>\n",
       "      <th>color</th>\n",
       "      <th>medium_image_url</th>\n",
       "      <th>product_type_name</th>\n",
       "      <th>title</th>\n",
       "      <th>formatted_price</th>\n",
       "      <th>Gender</th>\n",
       "      <th>sleeve_type</th>\n",
       "    </tr>\n",
       "  </thead>\n",
       "  <tbody>\n",
       "    <tr>\n",
       "      <th>61973</th>\n",
       "      <td>B06Y1KZ2WB</td>\n",
       "      <td>Éclair</td>\n",
       "      <td>Black/Pink</td>\n",
       "      <td>https://images-na.ssl-images-amazon.com/images...</td>\n",
       "      <td>SHIRT</td>\n",
       "      <td>Éclair Women's Printed Thin Strap Blouse Black...</td>\n",
       "      <td>$24.99</td>\n",
       "      <td>female</td>\n",
       "      <td>None</td>\n",
       "    </tr>\n",
       "    <tr>\n",
       "      <th>133820</th>\n",
       "      <td>B010RV33VE</td>\n",
       "      <td>xiaoming</td>\n",
       "      <td>Pink</td>\n",
       "      <td>https://images-na.ssl-images-amazon.com/images...</td>\n",
       "      <td>SHIRT</td>\n",
       "      <td>xiaoming Womens Sleeveless Loose Long T-shirts...</td>\n",
       "      <td>$18.19</td>\n",
       "      <td>female</td>\n",
       "      <td>None</td>\n",
       "    </tr>\n",
       "    <tr>\n",
       "      <th>81461</th>\n",
       "      <td>B01DDSDLNS</td>\n",
       "      <td>xiaoming</td>\n",
       "      <td>White</td>\n",
       "      <td>https://images-na.ssl-images-amazon.com/images...</td>\n",
       "      <td>SHIRT</td>\n",
       "      <td>xiaoming Women's White Long Sleeve Single Brea...</td>\n",
       "      <td>$21.58</td>\n",
       "      <td>female</td>\n",
       "      <td>long sleeve</td>\n",
       "    </tr>\n",
       "    <tr>\n",
       "      <th>75995</th>\n",
       "      <td>B00X5LYO9Y</td>\n",
       "      <td>xiaoming</td>\n",
       "      <td>Red Anchors</td>\n",
       "      <td>https://images-na.ssl-images-amazon.com/images...</td>\n",
       "      <td>SHIRT</td>\n",
       "      <td>xiaoming Stripes Tank Patch/Bear Sleeve Anchor...</td>\n",
       "      <td>$15.91</td>\n",
       "      <td>female</td>\n",
       "      <td>sleeveless</td>\n",
       "    </tr>\n",
       "    <tr>\n",
       "      <th>151570</th>\n",
       "      <td>B00WPJG35K</td>\n",
       "      <td>xiaoming</td>\n",
       "      <td>White</td>\n",
       "      <td>https://images-na.ssl-images-amazon.com/images...</td>\n",
       "      <td>SHIRT</td>\n",
       "      <td>xiaoming Sleeve Sheer Loose Tassel Kimono Woma...</td>\n",
       "      <td>$14.32</td>\n",
       "      <td>male</td>\n",
       "      <td>None</td>\n",
       "    </tr>\n",
       "  </tbody>\n",
       "</table>\n",
       "</div>"
      ],
      "text/plain": [
       "              asin     brand        color   \n",
       "61973   B06Y1KZ2WB    Éclair   Black/Pink  \\\n",
       "133820  B010RV33VE  xiaoming         Pink   \n",
       "81461   B01DDSDLNS  xiaoming        White   \n",
       "75995   B00X5LYO9Y  xiaoming  Red Anchors   \n",
       "151570  B00WPJG35K  xiaoming        White   \n",
       "\n",
       "                                         medium_image_url product_type_name   \n",
       "61973   https://images-na.ssl-images-amazon.com/images...             SHIRT  \\\n",
       "133820  https://images-na.ssl-images-amazon.com/images...             SHIRT   \n",
       "81461   https://images-na.ssl-images-amazon.com/images...             SHIRT   \n",
       "75995   https://images-na.ssl-images-amazon.com/images...             SHIRT   \n",
       "151570  https://images-na.ssl-images-amazon.com/images...             SHIRT   \n",
       "\n",
       "                                                    title formatted_price   \n",
       "61973   Éclair Women's Printed Thin Strap Blouse Black...          $24.99  \\\n",
       "133820  xiaoming Womens Sleeveless Loose Long T-shirts...          $18.19   \n",
       "81461   xiaoming Women's White Long Sleeve Single Brea...          $21.58   \n",
       "75995   xiaoming Stripes Tank Patch/Bear Sleeve Anchor...          $15.91   \n",
       "151570  xiaoming Sleeve Sheer Loose Tassel Kimono Woma...          $14.32   \n",
       "\n",
       "        Gender  sleeve_type  \n",
       "61973   female         None  \n",
       "133820  female         None  \n",
       "81461   female  long sleeve  \n",
       "75995   female   sleeveless  \n",
       "151570    male         None  "
      ]
     },
     "execution_count": 41,
     "metadata": {},
     "output_type": "execute_result"
    }
   ],
   "source": [
    "data.head()"
   ]
  },
  {
   "cell_type": "code",
   "execution_count": 42,
   "id": "62712628",
   "metadata": {},
   "outputs": [
    {
     "data": {
      "text/html": [
       "<div>\n",
       "<style scoped>\n",
       "    .dataframe tbody tr th:only-of-type {\n",
       "        vertical-align: middle;\n",
       "    }\n",
       "\n",
       "    .dataframe tbody tr th {\n",
       "        vertical-align: top;\n",
       "    }\n",
       "\n",
       "    .dataframe thead th {\n",
       "        text-align: right;\n",
       "    }\n",
       "</style>\n",
       "<table border=\"1\" class=\"dataframe\">\n",
       "  <thead>\n",
       "    <tr style=\"text-align: right;\">\n",
       "      <th></th>\n",
       "      <th>title</th>\n",
       "      <th>Gender</th>\n",
       "    </tr>\n",
       "  </thead>\n",
       "  <tbody>\n",
       "    <tr>\n",
       "      <th>173413</th>\n",
       "      <td>Stylish Shirt Collar Necklace Detachable Neckb...</td>\n",
       "      <td>male</td>\n",
       "    </tr>\n",
       "    <tr>\n",
       "      <th>61151</th>\n",
       "      <td>North End Ladies Performance Embossed Polo Shi...</td>\n",
       "      <td>female</td>\n",
       "    </tr>\n",
       "    <tr>\n",
       "      <th>24712</th>\n",
       "      <td>DZT1968® Punk Goth Lady Disco Dance Lace Finge...</td>\n",
       "      <td>male</td>\n",
       "    </tr>\n",
       "    <tr>\n",
       "      <th>60828</th>\n",
       "      <td>Exotic India Golden Designer Choli with Embroi...</td>\n",
       "      <td>male</td>\n",
       "    </tr>\n",
       "    <tr>\n",
       "      <th>20780</th>\n",
       "      <td>Niceda Women's Captain Morgan Art Tank Top T S...</td>\n",
       "      <td>female</td>\n",
       "    </tr>\n",
       "    <tr>\n",
       "      <th>160143</th>\n",
       "      <td>Women's Sorry I'm Late I Didn't Want To Come C...</td>\n",
       "      <td>female</td>\n",
       "    </tr>\n",
       "    <tr>\n",
       "      <th>152877</th>\n",
       "      <td>Basic Solid Sleeveless Crop Tank Tops Black Si...</td>\n",
       "      <td>female</td>\n",
       "    </tr>\n",
       "    <tr>\n",
       "      <th>71406</th>\n",
       "      <td>Victoria's Secret Pink Tee Shirt M Pink For Women</td>\n",
       "      <td>female</td>\n",
       "    </tr>\n",
       "    <tr>\n",
       "      <th>7097</th>\n",
       "      <td>Alice + Olivia Womens Ian Silk Top, Xs, White</td>\n",
       "      <td>female</td>\n",
       "    </tr>\n",
       "    <tr>\n",
       "      <th>140944</th>\n",
       "      <td>Hippie Rose Juniors Buttons Lace Top Blouse Cl...</td>\n",
       "      <td>female</td>\n",
       "    </tr>\n",
       "    <tr>\n",
       "      <th>69601</th>\n",
       "      <td>3/4 Sleeve Tunic Top for Women Small Deep Purple</td>\n",
       "      <td>female</td>\n",
       "    </tr>\n",
       "    <tr>\n",
       "      <th>143972</th>\n",
       "      <td>Levi's Womens Women's Slim Crew Neck Tee Slash...</td>\n",
       "      <td>female</td>\n",
       "    </tr>\n",
       "    <tr>\n",
       "      <th>38272</th>\n",
       "      <td>Pink Fishnet Cut Out Racerback Seamless Fashio...</td>\n",
       "      <td>female</td>\n",
       "    </tr>\n",
       "    <tr>\n",
       "      <th>123728</th>\n",
       "      <td>Dsquared2 Coral Red 3/4 Sleeve Women's Button ...</td>\n",
       "      <td>female</td>\n",
       "    </tr>\n",
       "    <tr>\n",
       "      <th>53519</th>\n",
       "      <td>Daniel Rainn Womens Silk Open Back Blouse Blue M</td>\n",
       "      <td>female</td>\n",
       "    </tr>\n",
       "    <tr>\n",
       "      <th>150037</th>\n",
       "      <td>Essential Knit Crew, Color Black, Size Extra L...</td>\n",
       "      <td>male</td>\n",
       "    </tr>\n",
       "    <tr>\n",
       "      <th>175027</th>\n",
       "      <td>Alice + Olivia Womens Rosie Peplum Top, L, Green</td>\n",
       "      <td>female</td>\n",
       "    </tr>\n",
       "    <tr>\n",
       "      <th>88037</th>\n",
       "      <td>Hurley Womens One &amp; Only Perfect Crew T-Shirt ...</td>\n",
       "      <td>female</td>\n",
       "    </tr>\n",
       "    <tr>\n",
       "      <th>94466</th>\n",
       "      <td>Fashion Woman Calvin And Cute Hobbes 3/4 Sleev...</td>\n",
       "      <td>male</td>\n",
       "    </tr>\n",
       "    <tr>\n",
       "      <th>83840</th>\n",
       "      <td>Pepin, Gretchen V-Neck Blouse (Burgundy)</td>\n",
       "      <td>male</td>\n",
       "    </tr>\n",
       "  </tbody>\n",
       "</table>\n",
       "</div>"
      ],
      "text/plain": [
       "                                                    title  Gender\n",
       "173413  Stylish Shirt Collar Necklace Detachable Neckb...    male\n",
       "61151   North End Ladies Performance Embossed Polo Shi...  female\n",
       "24712   DZT1968® Punk Goth Lady Disco Dance Lace Finge...    male\n",
       "60828   Exotic India Golden Designer Choli with Embroi...    male\n",
       "20780   Niceda Women's Captain Morgan Art Tank Top T S...  female\n",
       "160143  Women's Sorry I'm Late I Didn't Want To Come C...  female\n",
       "152877  Basic Solid Sleeveless Crop Tank Tops Black Si...  female\n",
       "71406   Victoria's Secret Pink Tee Shirt M Pink For Women  female\n",
       "7097        Alice + Olivia Womens Ian Silk Top, Xs, White  female\n",
       "140944  Hippie Rose Juniors Buttons Lace Top Blouse Cl...  female\n",
       "69601    3/4 Sleeve Tunic Top for Women Small Deep Purple  female\n",
       "143972  Levi's Womens Women's Slim Crew Neck Tee Slash...  female\n",
       "38272   Pink Fishnet Cut Out Racerback Seamless Fashio...  female\n",
       "123728  Dsquared2 Coral Red 3/4 Sleeve Women's Button ...  female\n",
       "53519    Daniel Rainn Womens Silk Open Back Blouse Blue M  female\n",
       "150037  Essential Knit Crew, Color Black, Size Extra L...    male\n",
       "175027   Alice + Olivia Womens Rosie Peplum Top, L, Green  female\n",
       "88037   Hurley Womens One & Only Perfect Crew T-Shirt ...  female\n",
       "94466   Fashion Woman Calvin And Cute Hobbes 3/4 Sleev...    male\n",
       "83840            Pepin, Gretchen V-Neck Blouse (Burgundy)    male"
      ]
     },
     "execution_count": 42,
     "metadata": {},
     "output_type": "execute_result"
    }
   ],
   "source": [
    "data[['title', 'Gender']].sample(20)"
   ]
  },
  {
   "cell_type": "code",
   "execution_count": 43,
   "id": "a63fcdd9",
   "metadata": {},
   "outputs": [
    {
     "data": {
      "text/plain": [
       "Gender\n",
       "female    22448\n",
       "male       5416\n",
       "Name: count, dtype: int64"
      ]
     },
     "execution_count": 43,
     "metadata": {},
     "output_type": "execute_result"
    }
   ],
   "source": [
    "data['Gender'].value_counts()"
   ]
  },
  {
   "cell_type": "code",
   "execution_count": 44,
   "id": "8b8e59ee",
   "metadata": {},
   "outputs": [
    {
     "name": "stderr",
     "output_type": "stream",
     "text": [
      "[nltk_data] Error loading stopwords: <urlopen error [Errno 11001]\n",
      "[nltk_data]     getaddrinfo failed>\n"
     ]
    },
    {
     "data": {
      "text/plain": [
       "False"
      ]
     },
     "execution_count": 44,
     "metadata": {},
     "output_type": "execute_result"
    }
   ],
   "source": [
    "import warnings\n",
    "warnings.filterwarnings(\"ignore\")\n",
    "import nltk\n",
    "nltk.download(\"stopwords\")\n"
   ]
  },
  {
   "cell_type": "code",
   "execution_count": 45,
   "id": "26628018",
   "metadata": {},
   "outputs": [
    {
     "data": {
      "text/plain": [
       "Index(['asin', 'brand', 'color', 'medium_image_url', 'product_type_name',\n",
       "       'title', 'formatted_price', 'Gender', 'sleeve_type'],\n",
       "      dtype='object')"
      ]
     },
     "execution_count": 45,
     "metadata": {},
     "output_type": "execute_result"
    }
   ],
   "source": [
    "data.columns"
   ]
  },
  {
   "cell_type": "code",
   "execution_count": 46,
   "id": "926a3c9e",
   "metadata": {},
   "outputs": [
    {
     "name": "stdout",
     "output_type": "stream",
     "text": [
      "              asin               brand                 color   \n",
      "61973   b06y1kz2wb              éclair             blackpink  \\\n",
      "133820  b010rv33ve            xiaoming                  pink   \n",
      "81461   b01ddsdlns            xiaoming                 white   \n",
      "75995   b00x5lyo9y            xiaoming           red anchors   \n",
      "151570  b00wpjg35k            xiaoming                 white   \n",
      "...            ...                 ...                   ...   \n",
      "10679   b06wp94nlg                  aj                 black   \n",
      "12050   b06wrw8rq1                  aj                 black   \n",
      "40451   b073sknqhd    workout princess  premium heather gray   \n",
      "109599  b00ki3vdxm         crazy4bling                purple   \n",
      "118987  b008d30agk  outofprintclothing          multicolored   \n",
      "\n",
      "                                         medium_image_url product_type_name   \n",
      "61973   httpsimagesnasslimagesamazoncomimagesi41qzyliv...             shirt  \\\n",
      "133820  httpsimagesnasslimagesamazoncomimagesi41m2reux...             shirt   \n",
      "81461   httpsimagesnasslimagesamazoncomimagesi51c4p2b6...             shirt   \n",
      "75995   httpsimagesnasslimagesamazoncomimagesi51rlutsk...             shirt   \n",
      "151570  httpsimagesnasslimagesamazoncomimagesi41qkcbhq...             shirt   \n",
      "...                                                   ...               ...   \n",
      "10679   httpsimagesnasslimagesamazoncomimagesi41th36b1...             shirt   \n",
      "12050   httpsimagesnasslimagesamazoncomimagesi41th36b1...             shirt   \n",
      "40451   httpsimagesnasslimagesamazoncomimagesi41x94wog...             shirt   \n",
      "109599  httpsimagesnasslimagesamazoncomimagesi41qywjje...             shirt   \n",
      "118987  httpsimagesnasslimagesamazoncomimagesi41rmox2b...             shirt   \n",
      "\n",
      "                                                    title formatted_price   \n",
      "61973   éclair womens printed thin strap blouse black ...            2499  \\\n",
      "133820  xiaoming womens sleeveless loose long tshirts ...            1819   \n",
      "81461   xiaoming womens white long sleeve single breas...            2158   \n",
      "75995   xiaoming stripes tank patchbear sleeve anchor ...            1591   \n",
      "151570  xiaoming sleeve sheer loose tassel kimono woma...            1432   \n",
      "...                                                   ...             ...   \n",
      "10679   life journey selfhelp diy tshirt womensilverfe...             938   \n",
      "12050   life journey selfhelp diy tshirt womensilverfe...             938   \n",
      "40451   workout burn crazy tri blend tank top funny wo...            2499   \n",
      "109599  wanna adored long sleeve top shredded shoulder...            3999   \n",
      "118987  1984 retro book cover womens slim fit tshirt p...             751   \n",
      "\n",
      "        Gender  sleeve_type  \n",
      "61973   female         None  \n",
      "133820  female         None  \n",
      "81461   female  long sleeve  \n",
      "75995   female   sleeveless  \n",
      "151570    male         None  \n",
      "...        ...          ...  \n",
      "10679   female         None  \n",
      "12050   female         None  \n",
      "40451   female   sleeveless  \n",
      "109599  female  long sleeve  \n",
      "118987  female         None  \n",
      "\n",
      "[27864 rows x 9 columns]\n"
     ]
    }
   ],
   "source": [
    "# we use the list of stop words that are downloaded from nltk lib.\n",
    "stop_words = set(stopwords.words('english'))\n",
    "\n",
    "# Preprocessing function\n",
    "def nlp_preprocessing(total_text):\n",
    "    if isinstance(total_text, str):\n",
    "        processed_text = \"\"\n",
    "        for word in total_text.split():\n",
    "            word = \"\".join(e for e in word if e.isalnum())  # Remove special chars\n",
    "            word = word.lower()  # Convert to lowercase\n",
    "            if word not in stop_words:  # Stopword removal\n",
    "                processed_text += word + \" \"\n",
    "        return processed_text.strip()\n",
    "    else:\n",
    "        return total_text\n",
    "\n",
    "columns_to_process = ['asin', 'brand', 'color', 'medium_image_url', 'product_type_name',\n",
    "       'title', 'formatted_price']\n",
    "\n",
    "for column in columns_to_process:\n",
    "    data[column] = data[column].apply(nlp_preprocessing)\n",
    "    \n",
    "print(data)"
   ]
  },
  {
   "cell_type": "code",
   "execution_count": 47,
   "id": "46b77669",
   "metadata": {},
   "outputs": [
    {
     "data": {
      "text/html": [
       "<div>\n",
       "<style scoped>\n",
       "    .dataframe tbody tr th:only-of-type {\n",
       "        vertical-align: middle;\n",
       "    }\n",
       "\n",
       "    .dataframe tbody tr th {\n",
       "        vertical-align: top;\n",
       "    }\n",
       "\n",
       "    .dataframe thead th {\n",
       "        text-align: right;\n",
       "    }\n",
       "</style>\n",
       "<table border=\"1\" class=\"dataframe\">\n",
       "  <thead>\n",
       "    <tr style=\"text-align: right;\">\n",
       "      <th></th>\n",
       "      <th>asin</th>\n",
       "      <th>brand</th>\n",
       "      <th>color</th>\n",
       "      <th>medium_image_url</th>\n",
       "      <th>product_type_name</th>\n",
       "      <th>title</th>\n",
       "      <th>formatted_price</th>\n",
       "      <th>Gender</th>\n",
       "      <th>sleeve_type</th>\n",
       "    </tr>\n",
       "  </thead>\n",
       "  <tbody>\n",
       "    <tr>\n",
       "      <th>61973</th>\n",
       "      <td>b06y1kz2wb</td>\n",
       "      <td>éclair</td>\n",
       "      <td>blackpink</td>\n",
       "      <td>httpsimagesnasslimagesamazoncomimagesi41qzyliv...</td>\n",
       "      <td>shirt</td>\n",
       "      <td>éclair womens printed thin strap blouse black ...</td>\n",
       "      <td>2499</td>\n",
       "      <td>female</td>\n",
       "      <td>None</td>\n",
       "    </tr>\n",
       "    <tr>\n",
       "      <th>133820</th>\n",
       "      <td>b010rv33ve</td>\n",
       "      <td>xiaoming</td>\n",
       "      <td>pink</td>\n",
       "      <td>httpsimagesnasslimagesamazoncomimagesi41m2reux...</td>\n",
       "      <td>shirt</td>\n",
       "      <td>xiaoming womens sleeveless loose long tshirts ...</td>\n",
       "      <td>1819</td>\n",
       "      <td>female</td>\n",
       "      <td>None</td>\n",
       "    </tr>\n",
       "    <tr>\n",
       "      <th>81461</th>\n",
       "      <td>b01ddsdlns</td>\n",
       "      <td>xiaoming</td>\n",
       "      <td>white</td>\n",
       "      <td>httpsimagesnasslimagesamazoncomimagesi51c4p2b6...</td>\n",
       "      <td>shirt</td>\n",
       "      <td>xiaoming womens white long sleeve single breas...</td>\n",
       "      <td>2158</td>\n",
       "      <td>female</td>\n",
       "      <td>long sleeve</td>\n",
       "    </tr>\n",
       "    <tr>\n",
       "      <th>75995</th>\n",
       "      <td>b00x5lyo9y</td>\n",
       "      <td>xiaoming</td>\n",
       "      <td>red anchors</td>\n",
       "      <td>httpsimagesnasslimagesamazoncomimagesi51rlutsk...</td>\n",
       "      <td>shirt</td>\n",
       "      <td>xiaoming stripes tank patchbear sleeve anchor ...</td>\n",
       "      <td>1591</td>\n",
       "      <td>female</td>\n",
       "      <td>sleeveless</td>\n",
       "    </tr>\n",
       "    <tr>\n",
       "      <th>151570</th>\n",
       "      <td>b00wpjg35k</td>\n",
       "      <td>xiaoming</td>\n",
       "      <td>white</td>\n",
       "      <td>httpsimagesnasslimagesamazoncomimagesi41qkcbhq...</td>\n",
       "      <td>shirt</td>\n",
       "      <td>xiaoming sleeve sheer loose tassel kimono woma...</td>\n",
       "      <td>1432</td>\n",
       "      <td>male</td>\n",
       "      <td>None</td>\n",
       "    </tr>\n",
       "  </tbody>\n",
       "</table>\n",
       "</div>"
      ],
      "text/plain": [
       "              asin     brand        color   \n",
       "61973   b06y1kz2wb    éclair    blackpink  \\\n",
       "133820  b010rv33ve  xiaoming         pink   \n",
       "81461   b01ddsdlns  xiaoming        white   \n",
       "75995   b00x5lyo9y  xiaoming  red anchors   \n",
       "151570  b00wpjg35k  xiaoming        white   \n",
       "\n",
       "                                         medium_image_url product_type_name   \n",
       "61973   httpsimagesnasslimagesamazoncomimagesi41qzyliv...             shirt  \\\n",
       "133820  httpsimagesnasslimagesamazoncomimagesi41m2reux...             shirt   \n",
       "81461   httpsimagesnasslimagesamazoncomimagesi51c4p2b6...             shirt   \n",
       "75995   httpsimagesnasslimagesamazoncomimagesi51rlutsk...             shirt   \n",
       "151570  httpsimagesnasslimagesamazoncomimagesi41qkcbhq...             shirt   \n",
       "\n",
       "                                                    title formatted_price   \n",
       "61973   éclair womens printed thin strap blouse black ...            2499  \\\n",
       "133820  xiaoming womens sleeveless loose long tshirts ...            1819   \n",
       "81461   xiaoming womens white long sleeve single breas...            2158   \n",
       "75995   xiaoming stripes tank patchbear sleeve anchor ...            1591   \n",
       "151570  xiaoming sleeve sheer loose tassel kimono woma...            1432   \n",
       "\n",
       "        Gender  sleeve_type  \n",
       "61973   female         None  \n",
       "133820  female         None  \n",
       "81461   female  long sleeve  \n",
       "75995   female   sleeveless  \n",
       "151570    male         None  "
      ]
     },
     "execution_count": 47,
     "metadata": {},
     "output_type": "execute_result"
    }
   ],
   "source": [
    "data.head()"
   ]
  },
  {
   "cell_type": "code",
   "execution_count": 48,
   "id": "89f93370",
   "metadata": {},
   "outputs": [
    {
     "name": "stdout",
     "output_type": "stream",
     "text": [
      "argu\n",
      "fish\n"
     ]
    }
   ],
   "source": [
    "from nltk.stem.porter import *\n",
    "stemmer = PorterStemmer()\n",
    "print(stemmer.stem('arguing'))\n",
    "print(stemmer.stem('fishing'))\n",
    "\n",
    "\n",
    "# We tried using stemming on our titles and it didnot work very well. \n",
    "\n"
   ]
  },
  {
   "cell_type": "code",
   "execution_count": 49,
   "id": "d3c853d2",
   "metadata": {},
   "outputs": [],
   "source": [
    "import re\n",
    "from collections import Counter\n",
    "import math\n",
    "\n",
    "# Function to convert text into a vector of word counts\n",
    "def text_to_vector(text):\n",
    "    word = re.compile(r'\\w+')\n",
    "    words = word.findall(text)  # Find all words in the text\n",
    "    return Counter(words)  # Count the occurrence of each word\n",
    "\n",
    "# Function to compute cosine similarity between two vectors\n",
    "def cosine_similarity(vector1, vector2):\n",
    "    # Find the common words between both vectors\n",
    "    common_words = set(vector1.keys()) & set(vector2.keys())\n",
    "    \n",
    "    # Calculate the dot product between the two vectors\n",
    "    dot_product = sum([vector1[word] * vector2[word] for word in common_words])\n",
    "\n",
    "    # Calculate the magnitudes (lengths) of the vectors\n",
    "    magnitude1 = math.sqrt(sum([count**2 for count in vector1.values()]))\n",
    "    magnitude2 = math.sqrt(sum([count**2 for count in vector2.values()]))\n",
    "\n",
    "    # Handle the case when one of the vectors has zero magnitude\n",
    "    if magnitude1 == 0 or magnitude2 == 0:\n",
    "        return 0.0\n",
    "\n",
    "    # Return cosine similarity score\n",
    "    return dot_product / (magnitude1 * magnitude2)\n",
    "\n",
    "# Function to get the result of text similarity between two documents\n",
    "def get_result(doc_id, content_a, content_b, url, model):\n",
    "    # Convert texts to vectors\n",
    "    vector1 = text_to_vector(content_a)\n",
    "    vector2 = text_to_vector(content_b)\n",
    "    \n",
    "    # Compute cosine similarity between the two text vectors\n",
    "    similarity_score = cosine_similarity(vector1, vector2)\n",
    "    \n",
    "    # Return or print the result (you can modify the return statement based on your needs)\n",
    "    result = {\n",
    "        \"doc_id\": doc_id,\n",
    "        \"url\": url,\n",
    "        \"similarity_score\": similarity_score,\n",
    "        \"model\": model  # Placeholder to include the model if needed\n",
    "    }\n",
    "    return result\n",
    "\n"
   ]
  },
  {
   "cell_type": "code",
   "execution_count": 50,
   "id": "e0ab983e",
   "metadata": {
    "scrolled": true
   },
   "outputs": [
    {
     "name": "stdout",
     "output_type": "stream",
     "text": [
      "(27864, 13695)\n"
     ]
    }
   ],
   "source": [
    "from sklearn.feature_extraction.text import CountVectorizer\n",
    "import pandas as pd\n",
    "\n",
    "\n",
    "# Initialize CountVectorizer\n",
    "title_vectorizer = CountVectorizer()\n",
    "\n",
    "# Apply CountVectorizer on the 'title' column to get term-frequency matrix\n",
    "title_features = title_vectorizer.fit_transform(data['title'])\n",
    "\n",
    "# Check the shape of the matrix\n",
    "print(title_features.get_shape())"
   ]
  },
  {
   "cell_type": "code",
   "execution_count": 51,
   "id": "afdb4fe7",
   "metadata": {},
   "outputs": [
    {
     "data": {
      "text/plain": [
       "<1x13695 sparse matrix of type '<class 'numpy.int64'>'\n",
       "\twith 7 stored elements in Compressed Sparse Row format>"
      ]
     },
     "execution_count": 51,
     "metadata": {},
     "output_type": "execute_result"
    }
   ],
   "source": [
    "title_features[932]"
   ]
  },
  {
   "cell_type": "code",
   "execution_count": 52,
   "id": "8fb8cc91",
   "metadata": {},
   "outputs": [
    {
     "data": {
      "text/plain": [
       "'b06y6g64r4'"
      ]
     },
     "execution_count": 52,
     "metadata": {},
     "output_type": "execute_result"
    }
   ],
   "source": [
    "data.iloc[932]['asin']"
   ]
  },
  {
   "cell_type": "code",
   "execution_count": 53,
   "id": "95195ab9",
   "metadata": {},
   "outputs": [
    {
     "name": "stdout",
     "output_type": "stream",
     "text": [
      "ASIN : b06y6g64r4\n",
      "Brand: xhilaration\n",
      "Title: xhilaration womens floral blouse ivory spring medium\n",
      "Cosine similarity with the query point: 0.0\n",
      "============================================================\n",
      "ASIN : b06zz2frsb\n",
      "Brand: xhilaration\n",
      "Title: xhilaration womens blouse black medium\n",
      "Cosine similarity with the query point: 2.0\n",
      "============================================================\n",
      "ASIN : b071cthvtv\n",
      "Brand: xhilaration\n",
      "Title: xhilaration womens floral pleated blouse xsmall ivory floral\n",
      "Cosine similarity with the query point: 2.23606797749979\n",
      "============================================================\n",
      "ASIN : b01nar8ce0\n",
      "Brand: sactuary\n",
      "Title: sanctuary womens scarlet blouse medium\n",
      "Cosine similarity with the query point: 2.449489742783178\n",
      "============================================================\n",
      "ASIN : b071xt7pgn\n",
      "Brand: xhilaration\n",
      "Title: xhilaration womens blouse black xxl\n",
      "Cosine similarity with the query point: 2.449489742783178\n",
      "============================================================\n",
      "ASIN : b071zvr3tv\n",
      "Brand: xhilaration\n",
      "Title: xhilaration womens sequin sleeveless blouse goldblack medium\n",
      "Cosine similarity with the query point: 2.449489742783178\n",
      "============================================================\n",
      "ASIN : b06y674b25\n",
      "Brand: xhilaration\n",
      "Title: xhilaration womens bell sleeve blouse xsmall ivory\n",
      "Cosine similarity with the query point: 2.449489742783178\n",
      "============================================================\n",
      "ASIN : b074jmky1g\n",
      "Brand: rain\n",
      "Title: rain rose womens blouse medium\n",
      "Cosine similarity with the query point: 2.449489742783178\n",
      "============================================================\n",
      "ASIN : b072kbqfsd\n",
      "Brand: hilary radley\n",
      "Title: hilary radley womens sleeveless blouse ivory medium\n",
      "Cosine similarity with the query point: 2.449489742783178\n",
      "============================================================\n",
      "ASIN : b071j26678\n",
      "Brand: dantelle\n",
      "Title: dantelle womens medium floral lace sheer blouse white ivory\n",
      "Cosine similarity with the query point: 2.449489742783178\n",
      "============================================================\n"
     ]
    }
   ],
   "source": [
    "import numpy as np\n",
    "from sklearn.metrics import pairwise_distances\n",
    "import pandas as pd\n",
    "\n",
    "# Assuming title_features contains the title vectors generated using CountVectorizer\n",
    "\n",
    "def bag_of_words_model(doc_id, num_results):\n",
    "    # Calculate pairwise cosine distances from the given apparel to all other apparels\n",
    "    pairwise_dist = pairwise_distances(title_features, title_features[doc_id])\n",
    "    \n",
    "    # Sort the distances to get indices of the smallest distances (most similar items)\n",
    "    indices = np.argsort(pairwise_dist.flatten())[0:num_results]\n",
    "    \n",
    "    # Sort the distances to get the smallest distances\n",
    "    pdists = np.sort(pairwise_dist.flatten())[0:num_results]\n",
    "    \n",
    "    # Dataframe indices corresponding to the smallest distances\n",
    "    df_indices = list(data.index[indices])\n",
    "    \n",
    "    # Print results for the similar products\n",
    "    for i in range(0, len(indices)):\n",
    "        # Fetch the result and print product information\n",
    "        get_result(\n",
    "            indices[i],\n",
    "            data['title'].loc[df_indices[0]],       # Original apparel's title\n",
    "            data['title'].loc[df_indices[i]],       # Similar apparel's title\n",
    "            data['medium_image_url'].loc[df_indices[i]],  # Image URL of the similar product\n",
    "            'bag_of_words'  # Model name\n",
    "        )\n",
    "        print('ASIN :', data['asin'].loc[df_indices[i]])\n",
    "        print('Brand:', data['brand'].loc[df_indices[i]])\n",
    "        print('Title:', data['title'].loc[df_indices[i]])\n",
    "        print('Cosine similarity with the query point:', pdists[i])\n",
    "        print('='*60)\n",
    "\n",
    "# Example usage: calling the bag-of-words model for a product with ID 932 to get 10 similar products\n",
    "bag_of_words_model(932, 10)"
   ]
  },
  {
   "cell_type": "code",
   "execution_count": 54,
   "id": "d9cc5d6d",
   "metadata": {},
   "outputs": [
    {
     "name": "stdout",
     "output_type": "stream",
     "text": [
      "ASIN : b0755pxb3g\n",
      "Brand: melissa mccarthy seven7\n",
      "Title: melissa mccarthy seven7 trendy womens plus size ribbed high low pink shirt top 2x\n",
      "Cosine similarity with the query point: 0.0\n",
      "============================================================\n",
      "ASIN : b0755lgtd9\n",
      "Brand: melissa mccarthy seven7\n",
      "Title: melissa mccarthy seven7 trendy woemsn plus size high low shirt top 0x\n",
      "Cosine similarity with the query point: 2.449489742783178\n",
      "============================================================\n",
      "ASIN : b06xv1g5yr\n",
      "Brand: melissa mccarthy seven7\n",
      "Title: melissa mccarthy seven7 plus size pleated high low top size 1x\n",
      "Cosine similarity with the query point: 3.0\n",
      "============================================================\n",
      "ASIN : b06xtrlgp8\n",
      "Brand: melissa mccarthy seven7\n",
      "Title: melissa mccarthy seven7 womens plus pleated front crepe tunic top pink 2x\n",
      "Cosine similarity with the query point: 3.1622776601683795\n",
      "============================================================\n",
      "ASIN : b0759yypr1\n",
      "Brand: melissa mccarthy seven7\n",
      "Title: melissa mccarthy seven7 trendy plus size scarf neck blouse 2x rose\n",
      "Cosine similarity with the query point: 3.3166247903554\n",
      "============================================================\n",
      "ASIN : b01n7atp2x\n",
      "Brand: melissa mccarthy seven7\n",
      "Title: melissa mccarthy seven7 womens plus size vneck jersey shirt top plum purple 3x\n",
      "Cosine similarity with the query point: 3.3166247903554\n",
      "============================================================\n",
      "ASIN : b06zyrdl9p\n",
      "Brand: \n",
      "Title: womens emerald dress tuniс shirt top size 2x\n",
      "Cosine similarity with the query point: 3.4641016151377544\n",
      "============================================================\n",
      "ASIN : b071xt4qxd\n",
      "Brand: melissa mccarthy seven7\n",
      "Title: melissa mccarthy crystal shoulder womens blouse top purple size 2x\n",
      "Cosine similarity with the query point: 3.4641016151377544\n",
      "============================================================\n",
      "ASIN : b073y2vzxn\n",
      "Brand: talbots\n",
      "Title: talbots pink top shirt tunic size\n",
      "Cosine similarity with the query point: 3.4641016151377544\n",
      "============================================================\n",
      "ASIN : b00icoqyy2\n",
      "Brand: numph\n",
      "Title: numph womens sleeveless top size pink\n",
      "Cosine similarity with the query point: 3.4641016151377544\n",
      "============================================================\n",
      "ASIN : b071njq5gf\n",
      "Brand: boden\n",
      "Title: boden pink top shirt size 10\n",
      "Cosine similarity with the query point: 3.4641016151377544\n",
      "============================================================\n",
      "ASIN : b074vgdd9c\n",
      "Brand: hot gal\n",
      "Title: womens plus size ruffle shoulder top 2x blush\n",
      "Cosine similarity with the query point: 3.4641016151377544\n",
      "============================================================\n",
      "ASIN : b06xrw9rm4\n",
      "Brand: glamorous\n",
      "Title: glamorous womens womens pink top size pink\n",
      "Cosine similarity with the query point: 3.605551275463989\n",
      "============================================================\n",
      "ASIN : b073m78xlp\n",
      "Brand: x gottex\n",
      "Title: x gottex womens top l\n",
      "Cosine similarity with the query point: 3.605551275463989\n",
      "============================================================\n",
      "ASIN : b072q36r79\n",
      "Brand: roamans\n",
      "Title: roamans womens plus size kate shirt black32 w\n",
      "Cosine similarity with the query point: 3.605551275463989\n",
      "============================================================\n",
      "ASIN : b06xrx9yf6\n",
      "Brand: glamorous\n",
      "Title: glamorous womens womens pink top size pink\n",
      "Cosine similarity with the query point: 3.605551275463989\n",
      "============================================================\n",
      "ASIN : b072m5dt41\n",
      "Brand: roamans\n",
      "Title: roamans womens plus size kate shirt black14 w\n",
      "Cosine similarity with the query point: 3.605551275463989\n",
      "============================================================\n",
      "ASIN : b01n6u2kit\n",
      "Brand: style  co\n",
      "Title: style  co plus size shortsleeve flouncehem top 2x pink\n",
      "Cosine similarity with the query point: 3.605551275463989\n",
      "============================================================\n",
      "ASIN : b01n408gq0\n",
      "Brand: esprit\n",
      "Title: esprit womens womens pink top size pink\n",
      "Cosine similarity with the query point: 3.605551275463989\n",
      "============================================================\n",
      "ASIN : b072m5dvz6\n",
      "Brand: roamans\n",
      "Title: roamans womens plus size kate shirt black16 w\n",
      "Cosine similarity with the query point: 3.605551275463989\n",
      "============================================================\n"
     ]
    }
   ],
   "source": [
    "bag_of_words_model(12566, 20)"
   ]
  },
  {
   "cell_type": "code",
   "execution_count": 55,
   "id": "1f0c511c",
   "metadata": {},
   "outputs": [],
   "source": [
    "tfidf_title_vectorizer = TfidfVectorizer(min_df = 0.0)\n",
    "tfidf_title_features = tfidf_title_vectorizer.fit_transform(data['title'])\n",
    "# tfidf_title_features.shape = #data_points * #words_in_corpus\n",
    "# CountVectorizer().fit_transform(courpus) returns the a sparase matrix of dimensions #data_points * #words_in_corpus\n",
    "# tfidf_title_features[doc_id, index_of_word_in_corpus] = tfidf values of the word in given doc"
   ]
  },
  {
   "cell_type": "code",
   "execution_count": 56,
   "id": "8ee01f98",
   "metadata": {},
   "outputs": [
    {
     "name": "stdout",
     "output_type": "stream",
     "text": [
      "ASIN : b06y6g64r4\n",
      "BRAND : xhilaration\n",
      "Cosine similarity with the query point: 0.0\n",
      "=============================================================================================================================\n",
      "ASIN : b071cthvtv\n",
      "BRAND : xhilaration\n",
      "Cosine similarity with the query point: 0.816494216115052\n",
      "=============================================================================================================================\n",
      "ASIN : b06zz2frsb\n",
      "BRAND : xhilaration\n",
      "Cosine similarity with the query point: 0.857673303321785\n",
      "=============================================================================================================================\n",
      "ASIN : b06y674b25\n",
      "BRAND : xhilaration\n",
      "Cosine similarity with the query point: 0.943429496806633\n",
      "=============================================================================================================================\n",
      "ASIN : b072bnvldw\n",
      "BRAND : xhilaration\n",
      "Cosine similarity with the query point: 1.0095188784168831\n",
      "=============================================================================================================================\n",
      "ASIN : b071xt7pgn\n",
      "BRAND : xhilaration\n",
      "Cosine similarity with the query point: 1.010086224243027\n",
      "=============================================================================================================================\n",
      "ASIN : b06y1w9sss\n",
      "BRAND : xhilaration\n",
      "Cosine similarity with the query point: 1.0649674826245168\n",
      "=============================================================================================================================\n",
      "ASIN : b071j26678\n",
      "BRAND : dantelle\n",
      "Cosine similarity with the query point: 1.0808640456788396\n",
      "=============================================================================================================================\n",
      "ASIN : b072m9twsk\n",
      "BRAND : xhilaration\n",
      "Cosine similarity with the query point: 1.0835805128608553\n",
      "=============================================================================================================================\n",
      "ASIN : b06xbs17rz\n",
      "BRAND : xhilaration\n",
      "Cosine similarity with the query point: 1.0841027780584926\n",
      "=============================================================================================================================\n"
     ]
    }
   ],
   "source": [
    "from sklearn.metrics import pairwise_distances\n",
    "import numpy as np\n",
    "\n",
    "def tfidf_model(doc_id, num_results):\n",
    "    # Calculate pairwise cosine distances from the given apparel to all other apparels\n",
    "    pairwise_dist = pairwise_distances(tfidf_title_features, tfidf_title_features[doc_id])\n",
    "    \n",
    "    # Sort the distances to get indices of the smallest distances (most similar items)\n",
    "    indices = np.argsort(pairwise_dist.flatten())[0:num_results]\n",
    "    \n",
    "    # Sort the distances to get the smallest distances\n",
    "    pdists = np.sort(pairwise_dist.flatten())[0:num_results]\n",
    "    \n",
    "    # Dataframe indices corresponding to the smallest distances\n",
    "    df_indices = list(data.index[indices])\n",
    "\n",
    "    # Print results for the similar products\n",
    "    for i in range(0, len(indices)):\n",
    "        # Fetch the result and print product information\n",
    "        get_result(\n",
    "            indices[i],\n",
    "            data['title'].loc[df_indices[0]],  # Original apparel's title\n",
    "            data['title'].loc[df_indices[i]],  # Similar apparel's title\n",
    "            data['medium_image_url'].loc[df_indices[i]],  # Image URL of the similar product\n",
    "            'tfidf'  # Model name\n",
    "        )\n",
    "        print('ASIN :', data['asin'].loc[df_indices[i]])\n",
    "        print('BRAND :', data['brand'].loc[df_indices[i]])\n",
    "        print('Cosine similarity with the query point:', pdists[i])\n",
    "        print('='*125)\n",
    "\n",
    "# Example usage: calling the tfidf_model for a product with ID 932 to get 10 similar products\n",
    "tfidf_model(932, 10)\n"
   ]
  },
  {
   "cell_type": "code",
   "execution_count": 57,
   "id": "9badc88d",
   "metadata": {},
   "outputs": [],
   "source": [
    "import pickle\n",
    "with open('word2vec_model', 'rb') as handle:\n",
    "    model = pickle.load(handle)"
   ]
  },
  {
   "cell_type": "code",
   "execution_count": 58,
   "id": "61a8d085",
   "metadata": {},
   "outputs": [],
   "source": [
    "def get_word_vec(sentence, doc_id, m_name):\n",
    "    # m_name: model information it will take two values\n",
    "        # if  m_name == 'avg', we will append the model[i], w2v representation of word i\n",
    "        # if m_name == 'weighted', we will multiply each w2v[word] with the idf(word)\n",
    "    vec = []\n",
    "    for i in sentence.split():\n",
    "        if i in vocab:\n",
    "            if m_name == 'weighted' and i in  idf_title_vectorizer.vocabulary_:\n",
    "                vec.append(idf_title_features[doc_id, idf_title_vectorizer.vocabulary_[i]] * model[i])\n",
    "            elif m_name == 'avg':\n",
    "                vec.append(model[i])\n",
    "        else:\n",
    "            # if the word in our courpus is not there in the google word2vec corpus, we are just ignoring it\n",
    "            vec.append(np.zeros(shape=(300,)))\n",
    "    # we will return a numpy array of shape (#number of words in title * 300 ) 300 = len(w2v_model[word])\n",
    "    # each row represents the word2vec representation of each word (weighted/avg) in given sentance \n",
    "    return  np.array(vec)\n",
    "\n",
    "def get_distance(vec1, vec2):\n",
    "    # vec1 = np.array(#number_of_words_title1 * 300), each row is a vector of length 300 corresponds to each word in give title\n",
    "    # vec2 = np.array(#number_of_words_title2 * 300), each row is a vector of length 300 corresponds to each word in give title\n",
    "    \n",
    "    final_dist = []\n",
    "    # for each vector in vec1 we caluclate the distance(euclidean) to all vectors in vec2\n",
    "    for i in vec1:\n",
    "        dist = []\n",
    "        for j in vec2:\n",
    "            # np.linalg.norm(i-j) will result the euclidean distance between vectors i, j\n",
    "            dist.append(np.linalg.norm(i-j))\n",
    "        final_dist.append(np.array(dist))\n",
    "    # final_dist = np.array(#number of words in title1 * #number of words in title2)\n",
    "    # final_dist[i,j] = euclidean distance between vectors i, j\n",
    "    return np.array(final_dist)\n",
    "\n",
    "\n"
   ]
  },
  {
   "cell_type": "code",
   "execution_count": 59,
   "id": "fe3ef890",
   "metadata": {},
   "outputs": [],
   "source": [
    "# vocab = stores all the words that are there in google w2v model\n",
    "# vocab = model.wv.vocab.keys() # if you are using Google word2Vec\n",
    "vocab = model.keys() \n",
    "\n",
    "def build_avg_vec(sentence, num_features, doc_id, m_name):\n",
    "    featureVec = np.zeros((num_features,), dtype=\"float32\")\n",
    "    nwords = 0\n",
    "\n",
    "    for word in sentence.split():\n",
    "        if word in vocab:\n",
    "            if m_name == 'weighted' and word in idf_title_vectorizer.vocabulary_:\n",
    "                featureVec = np.add(featureVec, idf_title_features[doc_id, idf_title_vectorizer.vocabulary_[word]] * model[word])\n",
    "            elif m_name == 'avg':\n",
    "                featureVec = np.add(featureVec, model[word])\n",
    "            nwords += 1\n",
    "    \n",
    "    if nwords > 0:\n",
    "        featureVec = np.divide(featureVec, nwords)\n",
    "    \n",
    "    return featureVec\n"
   ]
  },
  {
   "cell_type": "code",
   "execution_count": 60,
   "id": "9b54cf84",
   "metadata": {},
   "outputs": [],
   "source": [
    "doc_id = 0\n",
    "w2v_title = []\n",
    "\n",
    "# Build average vector representation for each title\n",
    "for title in data['title']:\n",
    "    avg_vec = build_avg_vec(title, 300, doc_id, 'avg')\n",
    "    w2v_title.append(avg_vec)\n",
    "    doc_id += 1\n",
    "\n",
    "# Converting list of vectors to a NumPy array\n",
    "w2v_title = np.array(w2v_title)"
   ]
  },
  {
   "cell_type": "code",
   "execution_count": 61,
   "id": "bb7e602d",
   "metadata": {},
   "outputs": [
    {
     "name": "stdout",
     "output_type": "stream",
     "text": [
      "ASIN : b0755pxb3g\n",
      "BRAND : melissa mccarthy seven7\n",
      "Euclidean distance from given input image: 0.0\n",
      "=============================================================================================================================\n",
      "ASIN : b0755lgtd9\n",
      "BRAND : melissa mccarthy seven7\n",
      "Euclidean distance from given input image: 0.46038264\n",
      "=============================================================================================================================\n",
      "ASIN : b01n7atp2x\n",
      "BRAND : melissa mccarthy seven7\n",
      "Euclidean distance from given input image: 0.62437814\n",
      "=============================================================================================================================\n",
      "ASIN : b010w7tqm8\n",
      "BRAND : fringoo\n",
      "Euclidean distance from given input image: 0.62624454\n",
      "=============================================================================================================================\n",
      "ASIN : b06xv1g5yr\n",
      "BRAND : melissa mccarthy seven7\n",
      "Euclidean distance from given input image: 0.6299955\n",
      "=============================================================================================================================\n",
      "ASIN : b018eb3q34\n",
      "BRAND : juntong\n",
      "Euclidean distance from given input image: 0.6407888\n",
      "=============================================================================================================================\n",
      "ASIN : b018e1zin0\n",
      "BRAND : juntong\n",
      "Euclidean distance from given input image: 0.6546518\n",
      "=============================================================================================================================\n",
      "ASIN : b018eb3nrs\n",
      "BRAND : juntong\n",
      "Euclidean distance from given input image: 0.6570116\n",
      "=============================================================================================================================\n",
      "ASIN : b018eb3upi\n",
      "BRAND : juntong\n",
      "Euclidean distance from given input image: 0.6615435\n",
      "=============================================================================================================================\n",
      "ASIN : b018eb3vra\n",
      "BRAND : juntong\n",
      "Euclidean distance from given input image: 0.6615435\n",
      "=============================================================================================================================\n",
      "ASIN : b010w7tq9g\n",
      "BRAND : fringoo\n",
      "Euclidean distance from given input image: 0.66880625\n",
      "=============================================================================================================================\n",
      "ASIN : b01equg5as\n",
      "BRAND : cutecc\n",
      "Euclidean distance from given input image: 0.6688775\n",
      "=============================================================================================================================\n",
      "ASIN : b010w7tq6o\n",
      "BRAND : fringoo\n",
      "Euclidean distance from given input image: 0.6702478\n",
      "=============================================================================================================================\n",
      "ASIN : b0711myrgx\n",
      "BRAND : h bordeaux\n",
      "Euclidean distance from given input image: 0.67145115\n",
      "=============================================================================================================================\n",
      "ASIN : b010w7tq78\n",
      "BRAND : fringoo\n",
      "Euclidean distance from given input image: 0.67194885\n",
      "=============================================================================================================================\n",
      "ASIN : b074tw39sc\n",
      "BRAND : bobeau\n",
      "Euclidean distance from given input image: 0.6720863\n",
      "=============================================================================================================================\n",
      "ASIN : b010w7tq5a\n",
      "BRAND : fringoo\n",
      "Euclidean distance from given input image: 0.6733642\n",
      "=============================================================================================================================\n",
      "ASIN : b01i50bkhs\n",
      "BRAND : manzocha\n",
      "Euclidean distance from given input image: 0.67482024\n",
      "=============================================================================================================================\n",
      "ASIN : b010w7tqaa\n",
      "BRAND : fringoo\n",
      "Euclidean distance from given input image: 0.67630637\n",
      "=============================================================================================================================\n",
      "ASIN : b01i50b44w\n",
      "BRAND : manzocha\n",
      "Euclidean distance from given input image: 0.6779592\n",
      "=============================================================================================================================\n",
      "ASIN : b010w7tqak\n",
      "BRAND : fringoo\n",
      "Euclidean distance from given input image: 0.6784785\n",
      "=============================================================================================================================\n",
      "ASIN : b018eb3mfg\n",
      "BRAND : juntong\n",
      "Euclidean distance from given input image: 0.6790808\n",
      "=============================================================================================================================\n",
      "ASIN : b072xmt5nj\n",
      "BRAND : xhilaration\n",
      "Euclidean distance from given input image: 0.68071157\n",
      "=============================================================================================================================\n",
      "ASIN : b074yycw4z\n",
      "BRAND : energienyc\n",
      "Euclidean distance from given input image: 0.68128854\n",
      "=============================================================================================================================\n",
      "ASIN : b06y56hlyx\n",
      "BRAND : cece cynthia steffe\n",
      "Euclidean distance from given input image: 0.6817763\n",
      "=============================================================================================================================\n",
      "ASIN : b010w7tq4q\n",
      "BRAND : fringoo\n",
      "Euclidean distance from given input image: 0.68330723\n",
      "=============================================================================================================================\n",
      "ASIN : b010w7tq5k\n",
      "BRAND : fringoo\n",
      "Euclidean distance from given input image: 0.68371916\n",
      "=============================================================================================================================\n",
      "ASIN : b010w7tsqw\n",
      "BRAND : fringoo\n",
      "Euclidean distance from given input image: 0.6842837\n",
      "=============================================================================================================================\n",
      "ASIN : b01m0b67z0\n",
      "BRAND : pleione\n",
      "Euclidean distance from given input image: 0.68428457\n",
      "=============================================================================================================================\n",
      "ASIN : b0711z8y51\n",
      "BRAND : astr\n",
      "Euclidean distance from given input image: 0.6861461\n",
      "=============================================================================================================================\n"
     ]
    }
   ],
   "source": [
    "def avg_w2v_model(doc_id, num_results):\n",
    "    # Ensure num_results is within bounds\n",
    "    if num_results > len(w2v_title):\n",
    "        raise ValueError(\"num_results exceeds the number of available documents\")\n",
    "    \n",
    "    \n",
    "    pairwise_dist = pairwise_distances(w2v_title, w2v_title[doc_id].reshape(1, -1)) # Pairwise Distance\n",
    "    \n",
    "    # indices of the smallest distances\n",
    "    indices = np.argsort(pairwise_dist.flatten())[0:num_results]\n",
    "    pdists = np.sort(pairwise_dist.flatten())[0:num_results]\n",
    "    \n",
    "    # DataFrame indices\n",
    "    df_indices = list(data.index[indices])\n",
    "    \n",
    "    #Results\n",
    "    for i in range(len(indices)):\n",
    "        print('ASIN :', data['asin'].loc[df_indices[i]])\n",
    "        print('BRAND :', data['brand'].loc[df_indices[i]])\n",
    "        print('Euclidean distance from given input image:', pdists[i])\n",
    "        print('='*125)\n",
    "\n",
    "avg_w2v_model(12566, 30)"
   ]
  },
  {
   "cell_type": "code",
   "execution_count": null,
   "id": "9aa64065",
   "metadata": {},
   "outputs": [],
   "source": []
  }
 ],
 "metadata": {
  "kernelspec": {
   "display_name": "Python 3 (ipykernel)",
   "language": "python",
   "name": "python3"
  },
  "language_info": {
   "codemirror_mode": {
    "name": "ipython",
    "version": 3
   },
   "file_extension": ".py",
   "mimetype": "text/x-python",
   "name": "python",
   "nbconvert_exporter": "python",
   "pygments_lexer": "ipython3",
   "version": "3.11.3"
  }
 },
 "nbformat": 4,
 "nbformat_minor": 5
}
